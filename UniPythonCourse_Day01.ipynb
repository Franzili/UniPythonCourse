{
  "nbformat": 4,
  "nbformat_minor": 0,
  "metadata": {
    "colab": {
      "name": "UniPythonCourse_Day01.ipynb",
      "provenance": [],
      "authorship_tag": "ABX9TyPNi5M6XoHY5IYIb19lb11i"
    },
    "kernelspec": {
      "name": "python3",
      "display_name": "Python 3"
    },
    "language_info": {
      "name": "python"
    }
  },
  "cells": [
    {
      "cell_type": "code",
      "execution_count": 3,
      "metadata": {
        "id": "Fia9us7QWmix",
        "colab": {
          "base_uri": "https://localhost:8080/"
        },
        "outputId": "ebcec03c-8906-48fc-92cb-1493e06ca78c"
      },
      "outputs": [
        {
          "output_type": "stream",
          "name": "stdout",
          "text": [
            "hello!\n"
          ]
        }
      ],
      "source": [
        "print(\"hello!\")\n",
        "var = \"Bobble, I bims 1 string\""
      ]
    }
  ]
}