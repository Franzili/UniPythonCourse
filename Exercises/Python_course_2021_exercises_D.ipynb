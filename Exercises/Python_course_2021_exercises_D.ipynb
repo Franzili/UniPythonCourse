{
 "nbformat": 4,
 "nbformat_minor": 0,
 "metadata": {
  "colab": {
   "name": "Python_course_2021_exercises_D.ipynb",
   "provenance": [],
   "collapsed_sections": [],
   "authorship_tag": "ABX9TyNjSyvLh7SDHkiQSK3gBPn/"
  },
  "kernelspec": {
   "name": "python3",
   "display_name": "Python 3"
  }
 },
 "cells": [
  {
   "cell_type": "markdown",
   "metadata": {
    "id": "xqfYLmi0LWEl",
    "pycharm": {
     "name": "#%% md\n"
    }
   },
   "source": [
    "# Python course 2021 - Exercises D"
   ]
  },
  {
   "cell_type": "markdown",
   "metadata": {
    "id": "LRZcpmP8LaR_",
    "pycharm": {
     "name": "#%% md\n"
    }
   },
   "source": [
    "## Part1 - writing files"
   ]
  },
  {
   "cell_type": "markdown",
   "metadata": {
    "id": "NDIaKYRcLfz1",
    "pycharm": {
     "name": "#%% md\n"
    }
   },
   "source": [
    "\n",
    "\n",
    "---\n",
    "1.1) Read the file AtCol0_Exons.fasta and write all headers (starting with '>') into a new file!\n",
    "\n"
   ]
  },
  {
   "cell_type": "code",
   "execution_count": null,
   "outputs": [],
   "source": [
    "with open(\"data/AtCol0_Exons.fasta\", 'r') as exons:\n",
    "    with open(\"data/Header_AtCol0_Exons.txt\", 'w') as new_file:\n",
    "        line = exons.readline()\n",
    "        while line:\n",
    "            if line[0] == '>':\n",
    "                new_file.write(line)\n",
    "            line = exons.readline()"
   ],
   "metadata": {
    "collapsed": false,
    "pycharm": {
     "name": "#%%\n"
    }
   }
  },
  {
   "cell_type": "markdown",
   "source": [
    "\n",
    "\n",
    "---\n",
    "1.2) Read the file AtCol0_Exons.fasta and write the following:\n",
    "* Line if it is a header\n",
    "* Length of line if it is a sequence line\n"
   ],
   "metadata": {
    "collapsed": false,
    "pycharm": {
     "name": "#%% md\n"
    }
   }
  },
  {
   "cell_type": "code",
   "execution_count": null,
   "outputs": [],
   "source": [
    "with open(\"data/AtCol0_Exons.fasta\", 'r') as exons:\n",
    "    with open(\"data/Summary_AtCol0_Exons.txt\", 'w') as new_file:\n",
    "        line = exons.readline()\n",
    "        while line:\n",
    "            if line[0] == '>':\n",
    "                new_file.write(line)\n",
    "            else:\n",
    "                new_file.write(str(len(line)) + \"\\n\")\n",
    "            line = exons.readline()"
   ],
   "metadata": {
    "collapsed": false,
    "pycharm": {
     "name": "#%%\n"
    }
   }
  },
  {
   "cell_type": "markdown",
   "source": [
    "\n",
    "\n",
    "---\n",
    "1.3) Calculate the number of sequences, the cumulative length and the average length in a new file! Are they matching the values of the original file?\n"
   ],
   "metadata": {
    "collapsed": false,
    "pycharm": {
     "name": "#%% md\n"
    }
   }
  },
  {
   "cell_type": "code",
   "execution_count": null,
   "outputs": [],
   "source": [
    "def summarize_seq_info(fasta_file):\n",
    "    with open(fasta_file, 'r') as summary:\n",
    "        seq_count = 0\n",
    "        cum_len = 0\n",
    "        line = summary.readline()\n",
    "        while line:\n",
    "            if line[0] == '>':\n",
    "                seq_count += 1\n",
    "            else:\n",
    "                cum_len += int(line)\n",
    "            line = summary.readline()\n",
    "        print(\"Number of sequences:\", seq_count)\n",
    "        print(\"Cumulative length:\", cum_len, \"bases\")\n",
    "        print(\"Average sequence length:\", cum_len / seq_count, \"bases\")\n",
    "\n",
    "summarize_seq_info(\"data/Summary_AtCol0_Exons.txt\")"
   ],
   "metadata": {
    "collapsed": false,
    "pycharm": {
     "name": "#%%\n"
    }
   }
  },
  {
   "cell_type": "markdown",
   "source": [
    "\n",
    "\n",
    "---\n",
    "1.4) Write sequences into a new file if their length is a multiple of 10!\n"
   ],
   "metadata": {
    "collapsed": false,
    "pycharm": {
     "name": "#%% md\n"
    }
   }
  },
  {
   "cell_type": "code",
   "execution_count": null,
   "outputs": [],
   "source": [
    "def seq_lens_multiple_of_10(fasta_file):\n",
    "    with open(fasta_file, 'r') as summary:\n",
    "        cum_len = 0\n",
    "        sequence = \"\"\n",
    "        line = summary.readline()\n",
    "        while line:\n",
    "            if line[0] == '>':\n",
    "                if cum_len % 10 == 0:\n",
    "                    print(sequence)\n",
    "                cum_len = 0\n",
    "                sequence = \"\"\n",
    "            else:\n",
    "                sequence += line\n",
    "                cum_len += len(line)\n",
    "            line = summary.readline()\n",
    "        if cum_len % 10 == 0:\n",
    "            print(sequence)\n",
    "\n",
    "seq_lens_multiple_of_10(\"data/AtCol0_Exons.fasta\")"
   ],
   "metadata": {
    "collapsed": false,
    "pycharm": {
     "name": "#%%\n"
    }
   }
  },
  {
   "cell_type": "markdown",
   "source": [
    "## Part2 - characters"
   ],
   "metadata": {
    "collapsed": false,
    "pycharm": {
     "name": "#%% md\n"
    }
   }
  },
  {
   "cell_type": "markdown",
   "source": [
    "\n",
    "\n",
    "---\n",
    "2.1) Read the file AtCol0_Exons.fasta and write the following:\n",
    "*   Only Arabidopsis Gene Identifier (e.g. AT1G01010)\n",
    "*   Gene Identifier, exon name, exon length (tab-delimited)\n",
    "\n",
    "\n"
   ],
   "metadata": {
    "collapsed": false,
    "pycharm": {
     "name": "#%% md\n"
    }
   }
  },
  {
   "cell_type": "code",
   "execution_count": null,
   "outputs": [],
   "source": [
    "def arabidopsis_only(fasta_file):\n",
    "    with open(fasta_file, 'r') as summary:\n",
    "        with open(\"Arabidopsis_Exons.txt\", 'w') as arabidopsis:\n",
    "            line = summary.readline()\n",
    "            while line:\n",
    "                if line.startswith('>AT1G01010'):\n",
    "                    columns = line.split('|')\n",
    "                    gene_identifier = columns[0].strip('>').strip()\n",
    "                    exon_name = columns[1].strip()\n",
    "                    exon_length = columns[2].split('\\t')[2].strip()\n",
    "                    arabidopsis.write(gene_identifier, exon_name, exon_length)\n",
    "                line = summary.readline()\n",
    "\n",
    "arabidopsis_only(\"data/AtCol0_Exons.fasta\")"
   ],
   "metadata": {
    "collapsed": false,
    "pycharm": {
     "name": "#%%\n"
    }
   }
  },
  {
   "cell_type": "code",
   "execution_count": 25,
   "outputs": [
    {
     "ename": "IndexError",
     "evalue": "list index out of range",
     "output_type": "error",
     "traceback": [
      "\u001B[0;31m---------------------------------------------------------------------------\u001B[0m",
      "\u001B[0;31mIndexError\u001B[0m                                Traceback (most recent call last)",
      "Input \u001B[0;32mIn [25]\u001B[0m, in \u001B[0;36m<cell line: 14>\u001B[0;34m()\u001B[0m\n\u001B[1;32m     11\u001B[0m                     arabidopsis\u001B[38;5;241m.\u001B[39mwrite(gene_identifier, exon_name, exon_length)\n\u001B[1;32m     12\u001B[0m                 line \u001B[38;5;241m=\u001B[39m summary\u001B[38;5;241m.\u001B[39mreadline()\n\u001B[0;32m---> 14\u001B[0m \u001B[43marabidopsis_only\u001B[49m\u001B[43m(\u001B[49m\u001B[38;5;124;43m\"\u001B[39;49m\u001B[38;5;124;43mdata/AtCol0_Exons.fasta\u001B[39;49m\u001B[38;5;124;43m\"\u001B[39;49m\u001B[43m)\u001B[49m\n",
      "Input \u001B[0;32mIn [25]\u001B[0m, in \u001B[0;36marabidopsis_only\u001B[0;34m(fasta_file)\u001B[0m\n\u001B[1;32m      8\u001B[0m     gene_identifier \u001B[38;5;241m=\u001B[39m columns[\u001B[38;5;241m0\u001B[39m]\u001B[38;5;241m.\u001B[39mstrip(\u001B[38;5;124m'\u001B[39m\u001B[38;5;124m>\u001B[39m\u001B[38;5;124m'\u001B[39m)\u001B[38;5;241m.\u001B[39mstrip()\n\u001B[1;32m      9\u001B[0m     exon_name \u001B[38;5;241m=\u001B[39m columns[\u001B[38;5;241m1\u001B[39m]\u001B[38;5;241m.\u001B[39mstrip()\n\u001B[0;32m---> 10\u001B[0m     exon_length \u001B[38;5;241m=\u001B[39m \u001B[43mcolumns\u001B[49m\u001B[43m[\u001B[49m\u001B[38;5;241;43m2\u001B[39;49m\u001B[43m]\u001B[49m\u001B[38;5;241;43m.\u001B[39;49m\u001B[43msplit\u001B[49m\u001B[43m(\u001B[49m\u001B[38;5;124;43m'\u001B[39;49m\u001B[38;5;130;43;01m\\t\u001B[39;49;00m\u001B[38;5;124;43m'\u001B[39;49m\u001B[43m)\u001B[49m\u001B[43m[\u001B[49m\u001B[38;5;241;43m2\u001B[39;49m\u001B[43m]\u001B[49m\u001B[38;5;241m.\u001B[39mstrip()\n\u001B[1;32m     11\u001B[0m     arabidopsis\u001B[38;5;241m.\u001B[39mwrite(gene_identifier, exon_name, exon_length)\n\u001B[1;32m     12\u001B[0m line \u001B[38;5;241m=\u001B[39m summary\u001B[38;5;241m.\u001B[39mreadline()\n",
      "\u001B[0;31mIndexError\u001B[0m: list index out of range"
     ]
    }
   ],
   "source": [
    "def arabidopsis_only(fasta_file):\n",
    "    with open(fasta_file, 'r') as summary:\n",
    "        with open(\"Arabidopsis_Exons.txt\", 'w') as arabidopsis:\n",
    "            line = summary.readline()\n",
    "            while line:\n",
    "                if line.startswith('>AT1G01010'):\n",
    "                    columns = line.split('|')\n",
    "                    gene_identifier = columns[0].strip('>').strip()\n",
    "                    exon_name = columns[1].strip()\n",
    "                    exon_length = columns[2].split('\\t')[2].strip()\n",
    "                    arabidopsis.write(gene_identifier, exon_name, exon_length)\n",
    "                line = summary.readline()\n",
    "\n",
    "arabidopsis_only(\"data/AtCol0_Exons.fasta\")"
   ],
   "metadata": {
    "collapsed": false,
    "pycharm": {
     "name": "#%%\n"
    }
   }
  },
  {
   "cell_type": "code",
   "execution_count": null,
   "outputs": [],
   "source": [],
   "metadata": {
    "collapsed": false,
    "pycharm": {
     "name": "#%%\n"
    }
   }
  }
 ]
}