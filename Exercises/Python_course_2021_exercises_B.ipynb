{
 "nbformat": 4,
 "nbformat_minor": 0,
 "metadata": {
  "colab": {
   "name": "Python_course_2021_exercises_B.ipynb",
   "provenance": [],
   "collapsed_sections": []
  },
  "kernelspec": {
   "name": "python3",
   "display_name": "Python 3"
  }
 },
 "cells": [
  {
   "cell_type": "markdown",
   "metadata": {
    "id": "9vv0rpCuGI-0",
    "pycharm": {
     "name": "#%% md\n"
    }
   },
   "source": [
    "# Python course 2021 - Exercises B\n",
    "\n"
   ]
  },
  {
   "cell_type": "markdown",
   "metadata": {
    "id": "MmKoM-5LGKuq",
    "pycharm": {
     "name": "#%% md\n"
    }
   },
   "source": [
    "## Part1 - control structures"
   ]
  },
  {
   "cell_type": "markdown",
   "metadata": {
    "id": "G7FusG7CGbta",
    "pycharm": {
     "name": "#%% md\n"
    }
   },
   "source": [
    "\n",
    "\n",
    "---\n",
    "1.1) Write a script for guessing numbers!\n"
   ]
  },
  {
   "cell_type": "code",
   "execution_count": 2,
   "outputs": [
    {
     "name": "stdout",
     "output_type": "stream",
     "text": [
      "That's not what I had in mind...\n"
     ]
    }
   ],
   "source": [
    "def guess_a_number():\n",
    "    goal = 361\n",
    "    num = int(input(\"Guess a number!\"))\n",
    "    if num != goal:\n",
    "        print(\"That's not what I had in mind...\")\n",
    "\n",
    "guess_a_number()"
   ],
   "metadata": {
    "collapsed": false,
    "pycharm": {
     "name": "#%%\n"
    }
   }
  },
  {
   "cell_type": "markdown",
   "source": [
    "\n",
    "\n",
    "---\n",
    "1.2) Add tips (smaller/larger) during the guessing process!\n"
   ],
   "metadata": {
    "collapsed": false,
    "pycharm": {
     "name": "#%% md\n"
    }
   }
  },
  {
   "cell_type": "code",
   "execution_count": 3,
   "outputs": [
    {
     "name": "stdout",
     "output_type": "stream",
     "text": [
      "That's too small!\n"
     ]
    }
   ],
   "source": [
    "def guess_a_number():\n",
    "    goal = 361\n",
    "    num = int(input(\"Guess a number!\"))\n",
    "    if num < goal:\n",
    "        print(\"That's too small!\")\n",
    "    elif num > goal:\n",
    "        print(\"That's too large!\")\n",
    "    else:\n",
    "        print(\"Wow you did it! That's the number I had in mind!\")\n",
    "\n",
    "guess_a_number()"
   ],
   "metadata": {
    "collapsed": false,
    "pycharm": {
     "name": "#%%\n"
    }
   }
  },
  {
   "cell_type": "markdown",
   "source": [
    "## Part2 - loops"
   ],
   "metadata": {
    "collapsed": false,
    "pycharm": {
     "name": "#%% md\n"
    }
   }
  },
  {
   "cell_type": "markdown",
   "source": [
    "\n",
    "\n",
    "---\n",
    "2.1) Write a function counting to 100 and printing all numbers which can be divided by 4 without any residue!\n",
    "\n",
    "* Info: 10%2    #modulo division in Python\n"
   ],
   "metadata": {
    "collapsed": false,
    "pycharm": {
     "name": "#%% md\n"
    }
   }
  },
  {
   "cell_type": "code",
   "execution_count": 4,
   "outputs": [
    {
     "name": "stdout",
     "output_type": "stream",
     "text": [
      "4\n",
      "8\n",
      "12\n",
      "16\n",
      "20\n",
      "24\n",
      "28\n",
      "32\n",
      "36\n",
      "40\n",
      "44\n",
      "48\n",
      "52\n",
      "56\n",
      "60\n",
      "64\n",
      "68\n",
      "72\n",
      "76\n",
      "80\n",
      "84\n",
      "88\n",
      "92\n",
      "96\n",
      "100\n"
     ]
    }
   ],
   "source": [
    "def counting():\n",
    "    for i in range(1, 101):\n",
    "        if i % 4 == 0:\n",
    "            print(i)\n",
    "\n",
    "counting()"
   ],
   "metadata": {
    "collapsed": false,
    "pycharm": {
     "name": "#%%\n"
    }
   }
  },
  {
   "cell_type": "markdown",
   "source": [
    "\n",
    "\n",
    "---\n",
    "2.2) Write a function counting down from 1000 to 0 and printing all numbers!\n"
   ],
   "metadata": {
    "collapsed": false,
    "pycharm": {
     "name": "#%% md\n"
    }
   }
  },
  {
   "cell_type": "code",
   "execution_count": 5,
   "outputs": [
    {
     "name": "stdout",
     "output_type": "stream",
     "text": [
      "101\n",
      "100\n",
      "99\n",
      "98\n",
      "97\n",
      "96\n",
      "95\n",
      "94\n",
      "93\n",
      "92\n",
      "91\n",
      "90\n",
      "89\n",
      "88\n",
      "87\n",
      "86\n",
      "85\n",
      "84\n",
      "83\n",
      "82\n",
      "81\n",
      "80\n",
      "79\n",
      "78\n",
      "77\n",
      "76\n",
      "75\n",
      "74\n",
      "73\n",
      "72\n",
      "71\n",
      "70\n",
      "69\n",
      "68\n",
      "67\n",
      "66\n",
      "65\n",
      "64\n",
      "63\n",
      "62\n",
      "61\n",
      "60\n",
      "59\n",
      "58\n",
      "57\n",
      "56\n",
      "55\n",
      "54\n",
      "53\n",
      "52\n",
      "51\n",
      "50\n",
      "49\n",
      "48\n",
      "47\n",
      "46\n",
      "45\n",
      "44\n",
      "43\n",
      "42\n",
      "41\n",
      "40\n",
      "39\n",
      "38\n",
      "37\n",
      "36\n",
      "35\n",
      "34\n",
      "33\n",
      "32\n",
      "31\n",
      "30\n",
      "29\n",
      "28\n",
      "27\n",
      "26\n",
      "25\n",
      "24\n",
      "23\n",
      "22\n",
      "21\n",
      "20\n",
      "19\n",
      "18\n",
      "17\n",
      "16\n",
      "15\n",
      "14\n",
      "13\n",
      "12\n",
      "11\n",
      "10\n",
      "9\n",
      "8\n",
      "7\n",
      "6\n",
      "5\n",
      "4\n",
      "3\n",
      "2\n"
     ]
    }
   ],
   "source": [
    "def counting_down():\n",
    "    for i in range(101, 1, -1):\n",
    "        print(i)\n",
    "\n",
    "counting_down()"
   ],
   "metadata": {
    "collapsed": false,
    "pycharm": {
     "name": "#%%\n"
    }
   }
  },
  {
   "cell_type": "markdown",
   "source": [
    "\n",
    "\n",
    "---\n",
    "2.3) Generate a list of species names! Write a function printing all species names starting with \"E\"!\n"
   ],
   "metadata": {
    "collapsed": false,
    "pycharm": {
     "name": "#%% md\n"
    }
   }
  },
  {
   "cell_type": "code",
   "execution_count": 6,
   "outputs": [
    {
     "name": "stdout",
     "output_type": "stream",
     "text": [
      "E.coli\n"
     ]
    }
   ],
   "source": [
    "list_of_species = [\"E.coli\", \"B.subtilis\", \"S.cerevisiae\", \"C.glutamicum\", \"A.tumefaciens\"]\n",
    "def species_beginning_with_E():\n",
    "    for species in list_of_species:\n",
    "        if species[0] == 'E':\n",
    "            print(species)\n",
    "\n",
    "species_beginning_with_E()"
   ],
   "metadata": {
    "collapsed": false,
    "pycharm": {
     "name": "#%%\n"
    }
   }
  },
  {
   "cell_type": "markdown",
   "source": [
    "\n",
    "\n",
    "---\n",
    "2.4) Expand this function to limit the printing to species names which are additionally shorter than 10 characters!\n"
   ],
   "metadata": {
    "collapsed": false,
    "pycharm": {
     "name": "#%% md\n"
    }
   }
  },
  {
   "cell_type": "code",
   "execution_count": 7,
   "outputs": [
    {
     "name": "stdout",
     "output_type": "stream",
     "text": [
      "E.coli\n"
     ]
    }
   ],
   "source": [
    "def species_beginning_with_E_max10chars():\n",
    "    for species in list_of_species:\n",
    "        if species[0] == 'E' and len(species) < 10:\n",
    "            print(species)\n",
    "\n",
    "species_beginning_with_E_max10chars()"
   ],
   "metadata": {
    "collapsed": false,
    "pycharm": {
     "name": "#%%\n"
    }
   }
  },
  {
   "cell_type": "markdown",
   "source": [
    "\n",
    "\n",
    "---\n",
    "2.5) Expand this function to limit the printing to species names which are additionally ending with \"a\".\n"
   ],
   "metadata": {
    "collapsed": false,
    "pycharm": {
     "name": "#%% md\n"
    }
   }
  },
  {
   "cell_type": "code",
   "execution_count": 8,
   "outputs": [],
   "source": [
    "def species_beginning_with_E_max10chars_ending_with_a():\n",
    "    for species in list_of_species:\n",
    "        if species[0] == 'E' and len(species) < 10 and species[-1] == 'a':\n",
    "            print(species)\n",
    "\n",
    "species_beginning_with_E_max10chars_ending_with_a()"
   ],
   "metadata": {
    "collapsed": false,
    "pycharm": {
     "name": "#%%\n"
    }
   }
  },
  {
   "cell_type": "markdown",
   "source": [
    "## Part3 - range & enumerate"
   ],
   "metadata": {
    "collapsed": false,
    "pycharm": {
     "name": "#%% md\n"
    }
   }
  },
  {
   "cell_type": "markdown",
   "source": [
    "\n",
    "\n",
    "---\n",
    "3.1) Write a script to print 50x \"here\" and the current value of the control variable!\n"
   ],
   "metadata": {
    "collapsed": false,
    "pycharm": {
     "name": "#%% md\n"
    }
   }
  },
  {
   "cell_type": "code",
   "execution_count": 14,
   "outputs": [
    {
     "name": "stdout",
     "output_type": "stream",
     "text": [
      "0 here\n",
      "1 here\n",
      "2 here\n",
      "3 here\n",
      "4 here\n",
      "5 here\n",
      "6 here\n",
      "7 here\n",
      "8 here\n",
      "9 here\n",
      "10 here\n",
      "11 here\n",
      "12 here\n",
      "13 here\n",
      "14 here\n",
      "15 here\n",
      "16 here\n",
      "17 here\n",
      "18 here\n",
      "19 here\n",
      "20 here\n",
      "21 here\n",
      "22 here\n",
      "23 here\n",
      "24 here\n",
      "25 here\n",
      "26 here\n",
      "27 here\n",
      "28 here\n",
      "29 here\n",
      "30 here\n",
      "31 here\n",
      "32 here\n",
      "33 here\n",
      "34 here\n",
      "35 here\n",
      "36 here\n",
      "37 here\n",
      "38 here\n",
      "39 here\n",
      "40 here\n",
      "41 here\n",
      "42 here\n",
      "43 here\n",
      "44 here\n",
      "45 here\n",
      "46 here\n",
      "47 here\n",
      "48 here\n",
      "49 here\n"
     ]
    }
   ],
   "source": [
    "def here_50_times():\n",
    "    for i in range(50):\n",
    "        print(i, \"here\")\n",
    "\n",
    "here_50_times()"
   ],
   "metadata": {
    "collapsed": false,
    "pycharm": {
     "name": "#%%\n"
    }
   }
  },
  {
   "cell_type": "markdown",
   "source": [
    "\n",
    "\n",
    "---\n",
    "3.2) Write a script to walk through the species list and to print the character from the species where the index corresponds to the current control variable value!\n"
   ],
   "metadata": {
    "collapsed": false,
    "pycharm": {
     "name": "#%% md\n"
    }
   }
  },
  {
   "cell_type": "code",
   "execution_count": 12,
   "outputs": [
    {
     "name": "stdout",
     "output_type": "stream",
     "text": [
      "0 E\n",
      "1 .\n",
      "2 c\n",
      "3 l\n",
      "4 m\n"
     ]
    }
   ],
   "source": [
    "def walk_trough_species():\n",
    "    for idx, species in enumerate(list_of_species):\n",
    "        end = min(idx, len(species)-1)\n",
    "        print(idx, species[end])\n",
    "\n",
    "walk_trough_species()"
   ],
   "metadata": {
    "collapsed": false,
    "pycharm": {
     "name": "#%%\n"
    }
   }
  }
 ]
}