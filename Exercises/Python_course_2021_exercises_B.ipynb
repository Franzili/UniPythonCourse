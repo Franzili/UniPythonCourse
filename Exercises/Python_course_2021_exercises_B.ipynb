{
 "nbformat": 4,
 "nbformat_minor": 0,
 "metadata": {
  "colab": {
   "name": "Python_course_2021_exercises_B.ipynb",
   "provenance": [],
   "collapsed_sections": []
  },
  "kernelspec": {
   "name": "python3",
   "display_name": "Python 3"
  }
 },
 "cells": [
  {
   "cell_type": "markdown",
   "metadata": {
    "id": "9vv0rpCuGI-0",
    "pycharm": {
     "name": "#%% md\n"
    }
   },
   "source": [
    "# Python course 2021 - Exercises B\n",
    "\n"
   ]
  },
  {
   "cell_type": "markdown",
   "metadata": {
    "id": "MmKoM-5LGKuq",
    "pycharm": {
     "name": "#%% md\n"
    }
   },
   "source": [
    "## Part1 - control structures"
   ]
  },
  {
   "cell_type": "markdown",
   "metadata": {
    "id": "G7FusG7CGbta",
    "pycharm": {
     "name": "#%% md\n"
    }
   },
   "source": [
    "\n",
    "\n",
    "---\n",
    "1.1) Write a script for guessing numbers!\n"
   ]
  },
  {
   "cell_type": "code",
   "execution_count": null,
   "outputs": [],
   "source": [
    "def guess_a_number():\n",
    "    goal = 361\n",
    "    num = int(input(\"Guess a number!\"))\n",
    "    if num != goal:\n",
    "        print(\"That's not what I had in mind...\")\n",
    "\n",
    "guess_a_number()"
   ],
   "metadata": {
    "collapsed": false,
    "pycharm": {
     "name": "#%%\n"
    }
   }
  },
  {
   "cell_type": "markdown",
   "source": [
    "\n",
    "\n",
    "---\n",
    "1.2) Add tips (smaller/larger) during the guessing process!\n"
   ],
   "metadata": {
    "collapsed": false,
    "pycharm": {
     "name": "#%% md\n"
    }
   }
  },
  {
   "cell_type": "code",
   "execution_count": null,
   "outputs": [],
   "source": [
    "def guess_a_number():\n",
    "    goal = 361\n",
    "    num = int(input(\"Guess a number!\"))\n",
    "    if num < goal:\n",
    "        print(\"That's too small!\")\n",
    "    elif num > goal:\n",
    "        print(\"That's too large!\")\n",
    "    else:\n",
    "        print(\"Wow you did it! That's the number I had in mind!\")\n",
    "\n",
    "guess_a_number()"
   ],
   "metadata": {
    "collapsed": false,
    "pycharm": {
     "name": "#%%\n"
    }
   }
  },
  {
   "cell_type": "markdown",
   "source": [
    "## Part2 - loops"
   ],
   "metadata": {
    "collapsed": false,
    "pycharm": {
     "name": "#%% md\n"
    }
   }
  },
  {
   "cell_type": "markdown",
   "source": [
    "\n",
    "\n",
    "---\n",
    "2.1) Write a function counting to 100 and printing all numbers which can be divided by 4 without any residue!\n",
    "\n",
    "* Info: 10%2    #modulo division in Python\n"
   ],
   "metadata": {
    "collapsed": false,
    "pycharm": {
     "name": "#%% md\n"
    }
   }
  },
  {
   "cell_type": "code",
   "execution_count": null,
   "outputs": [],
   "source": [
    "def counting():\n",
    "    for i in range(1, 101):\n",
    "        if i % 4 == 0:\n",
    "            print(i)\n",
    "\n",
    "counting()"
   ],
   "metadata": {
    "collapsed": false,
    "pycharm": {
     "name": "#%%\n"
    }
   }
  },
  {
   "cell_type": "markdown",
   "source": [
    "\n",
    "\n",
    "---\n",
    "2.2) Write a function counting down from 1000 to 0 and printing all numbers!\n"
   ],
   "metadata": {
    "collapsed": false,
    "pycharm": {
     "name": "#%% md\n"
    }
   }
  },
  {
   "cell_type": "code",
   "execution_count": null,
   "outputs": [],
   "source": [
    "def counting_down():\n",
    "    for i in range(101, 1, -1):\n",
    "        print(i)\n",
    "\n",
    "counting_down()"
   ],
   "metadata": {
    "collapsed": false,
    "pycharm": {
     "name": "#%%\n"
    }
   }
  },
  {
   "cell_type": "markdown",
   "source": [
    "\n",
    "\n",
    "---\n",
    "2.3) Generate a list of species names! Write a function printing all species names starting with \"E\"!\n"
   ],
   "metadata": {
    "collapsed": false,
    "pycharm": {
     "name": "#%% md\n"
    }
   }
  },
  {
   "cell_type": "code",
   "execution_count": null,
   "outputs": [],
   "source": [
    "list_of_species = [\"E.coli\", \"B.subtilis\", \"S.cerevisiae\", \"C.glutamicum\", \"A.tumefaciens\"]\n",
    "def species_beginning_with_E():\n",
    "    for species in list_of_species:\n",
    "        if species[0] == 'E':\n",
    "            print(species)\n",
    "\n",
    "species_beginning_with_E()"
   ],
   "metadata": {
    "collapsed": false,
    "pycharm": {
     "name": "#%%\n"
    }
   }
  },
  {
   "cell_type": "markdown",
   "source": [
    "\n",
    "\n",
    "---\n",
    "2.4) Expand this function to limit the printing to species names which are additionally shorter than 10 characters!\n"
   ],
   "metadata": {
    "collapsed": false,
    "pycharm": {
     "name": "#%% md\n"
    }
   }
  },
  {
   "cell_type": "code",
   "execution_count": null,
   "outputs": [],
   "source": [
    "def species_beginning_with_E_max10chars():\n",
    "    for species in list_of_species:\n",
    "        if species[0] == 'E' and len(species) < 10:\n",
    "            print(species)\n",
    "\n",
    "species_beginning_with_E_max10chars()"
   ],
   "metadata": {
    "collapsed": false,
    "pycharm": {
     "name": "#%%\n"
    }
   }
  },
  {
   "cell_type": "markdown",
   "source": [
    "\n",
    "\n",
    "---\n",
    "2.5) Expand this function to limit the printing to species names which are additionally ending with \"a\".\n"
   ],
   "metadata": {
    "collapsed": false,
    "pycharm": {
     "name": "#%% md\n"
    }
   }
  },
  {
   "cell_type": "code",
   "execution_count": null,
   "outputs": [],
   "source": [
    "def species_beginning_with_E_max10chars_ending_with_a():\n",
    "    for species in list_of_species:\n",
    "        if species[0] == 'E' and len(species) < 10 and species[-1] == 'a':\n",
    "            print(species)\n",
    "\n",
    "species_beginning_with_E_max10chars_ending_with_a()"
   ],
   "metadata": {
    "collapsed": false,
    "pycharm": {
     "name": "#%%\n"
    }
   }
  },
  {
   "cell_type": "markdown",
   "source": [
    "## Part3 - range & enumerate"
   ],
   "metadata": {
    "collapsed": false,
    "pycharm": {
     "name": "#%% md\n"
    }
   }
  },
  {
   "cell_type": "markdown",
   "source": [
    "\n",
    "\n",
    "---\n",
    "3.1) Write a script to print 50x \"here\" and the current value of the control variable!\n"
   ],
   "metadata": {
    "collapsed": false,
    "pycharm": {
     "name": "#%% md\n"
    }
   }
  },
  {
   "cell_type": "code",
   "execution_count": null,
   "outputs": [],
   "source": [
    "def here_50_times():\n",
    "    i = 0\n",
    "    while i < 50:\n",
    "        print(i, \"here\")\n",
    "        i += 1\n",
    "\n",
    "here_50_times()"
   ],
   "metadata": {
    "collapsed": false,
    "pycharm": {
     "name": "#%%\n"
    }
   }
  },
  {
   "cell_type": "markdown",
   "source": [
    "\n",
    "\n",
    "---\n",
    "3.2) Write a script to walk through the species list and to print the character from the species where the index corresponds to the current control variable value!\n"
   ],
   "metadata": {
    "collapsed": false,
    "pycharm": {
     "name": "#%% md\n"
    }
   }
  },
  {
   "cell_type": "code",
   "execution_count": null,
   "outputs": [],
   "source": [
    "def walk_trough_species():\n",
    "    for idx, species in enumerate(list_of_species):\n",
    "        print(idx, species)\n",
    "\n",
    "walk_trough_species()"
   ],
   "metadata": {
    "collapsed": false,
    "pycharm": {
     "name": "#%%\n"
    }
   }
  }
 ]
}