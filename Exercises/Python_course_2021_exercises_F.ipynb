{
  "nbformat": 4,
  "nbformat_minor": 0,
  "metadata": {
    "colab": {
      "name": "Python_course_2021_exercises_F.ipynb",
      "provenance": [],
      "collapsed_sections": []
    },
    "kernelspec": {
      "name": "python3",
      "display_name": "Python 3"
    }
  },
  "cells": [
    {
      "cell_type": "markdown",
      "metadata": {
        "id": "C6hjQZrrO1lx"
      },
      "source": [
        "# Python course 2021 - Exercises F"
      ]
    },
    {
      "cell_type": "markdown",
      "metadata": {
        "id": "RoMsf4tCO3CA"
      },
      "source": [
        "## Part1 - DNA, RNA and peptide sequences"
      ]
    },
    {
      "cell_type": "markdown",
      "metadata": {
        "id": "3_wMYLkSPBrx"
      },
      "source": [
        "\n",
        "\n",
        "---\n",
        "1.1) Write a function to get the reverse complement (upper case letters) of a DNA sequence given in upper case letters!\n"
      ]
    },
    {
      "cell_type": "code",
      "metadata": {
        "id": "Uq70MpOBPMpe",
        "colab": {
          "base_uri": "https://localhost:8080/"
        },
        "outputId": "7a9da034-e53d-4d67-f820-85b40fb7c7b6"
      },
      "source": [
        "def get_reverse_complement(sequence):\n",
        "  bases = {'A': 'T', 'T': 'A', 'C': 'G', 'G': 'C'}\n",
        "\n",
        "  rev_comp = []\n",
        "  for i in range(len(sequence)-1, -1, -1):\n",
        "    rev_comp += [bases[sequence[i]]]\n",
        "\n",
        "  return ''.join(rev_comp)\n",
        "\n",
        "sequence_1 = \"AGACGTA\"\n",
        "print(sequence_1)\n",
        "print(get_reverse_complement(sequence_1))\n",
        "\n",
        "sequence_2 = \"TTTGACGTAT\"\n",
        "print(sequence_2)\n",
        "print(get_reverse_complement(sequence_2))"
      ],
      "execution_count": 2,
      "outputs": [
        {
          "output_type": "stream",
          "name": "stdout",
          "text": [
            "AGACGTA\n",
            "TACGTCT\n",
            "TTTGACGTAT\n",
            "ATACGTCAAA\n"
          ]
        }
      ]
    },
    {
      "cell_type": "markdown",
      "metadata": {
        "id": "trElcFlcPMzg"
      },
      "source": [
        "\n",
        "\n",
        "---\n",
        "1.2) Write a function to convert a DNA sequence into a RNA sequence!\n"
      ]
    },
    {
      "cell_type": "code",
      "metadata": {
        "id": "ahMEGCWTPUAY",
        "colab": {
          "base_uri": "https://localhost:8080/"
        },
        "outputId": "e3377015-f4bd-46ad-f3f8-6a6d2e9da640"
      },
      "source": [
        "def convert_DNA_to_RNA(sequence):\n",
        "  rna_sequence = []\n",
        "  for character in sequence:\n",
        "    if character == \"T\":\n",
        "      rna_sequence += [\"U\"]\n",
        "    else:\n",
        "      rna_sequence += [character]\n",
        "\n",
        "  return ''.join(rna_sequence)\n",
        "\n",
        "print(sequence_1)\n",
        "print(convert_DNA_to_RNA(sequence_1))\n",
        "\n",
        "print(sequence_2)\n",
        "print(convert_DNA_to_RNA(sequence_2))"
      ],
      "execution_count": 3,
      "outputs": [
        {
          "output_type": "stream",
          "name": "stdout",
          "text": [
            "AGACGTA\n",
            "AGACGUA\n",
            "TTTGACGTAT\n",
            "UUUGACGUAU\n"
          ]
        }
      ]
    },
    {
      "cell_type": "markdown",
      "metadata": {
        "id": "EOMgpzlnPUJ6"
      },
      "source": [
        "\n",
        "\n",
        "---\n",
        "1.3) Write a function to translate a DNA sequence into amino acids (first frame only)!\n",
        "* Tip: [wiki - codon tables](https://en.wikipedia.org/wiki/DNA_and_RNA_codon_tables)\n"
      ]
    },
    {
      "cell_type": "code",
      "metadata": {
        "id": "aFVhE4KEPrM4",
        "colab": {
          "base_uri": "https://localhost:8080/"
        },
        "outputId": "30f11f6a-3aac-4a01-b584-74f262602151"
      },
      "source": [
        "codons = {\n",
        "  \"TTT\": \"F\",\n",
        "  \"TTC\": \"F\",\n",
        "  \"TTA\": \"L\",\n",
        "  \"TTG\": \"L\",\n",
        "  \"CTT\": \"L\",\n",
        "  \"CTC\": \"L\",\n",
        "  \"CTA\": \"L\",\n",
        "  \"CTG\": \"L\",\n",
        "  \"ATT\": \"I\",\n",
        "  \"ATC\": \"I\",\n",
        "  \"ATA\": \"I\",\n",
        "  \"ATG\": \"M\",\n",
        "  \"GTT\": \"V\",\n",
        "  \"GTC\": \"V\",\n",
        "  \"GTA\": \"V\",\n",
        "  \"GTG\": \"V\",\n",
        "  \"TCT\": \"S\",\n",
        "  \"TCC\": \"S\",\n",
        "  \"TCA\": \"S\",\n",
        "  \"TCG\": \"S\",\n",
        "  \"CCT\": \"P\",\n",
        "  \"CCC\": \"P\",\n",
        "  \"CCA\": \"P\",\n",
        "  \"CCG\": \"P\",\n",
        "  \"ACT\": \"T\",\n",
        "  \"ACC\": \"T\",\n",
        "  \"ACA\": \"T\",\n",
        "  \"ACG\": \"T\",\n",
        "  \"GCT\": \"A\",\n",
        "  \"GCC\": \"A\",\n",
        "  \"GCA\": \"A\",\n",
        "  \"GCG\": \"A\",\n",
        "  \"TAT\": \"Y\",\n",
        "  \"TAC\": \"Y\",\n",
        "  \"TAA\": \"*\",\n",
        "  \"TAG\": \"*\",\n",
        "  \"CAT\": \"H\",\n",
        "  \"CAC\": \"H\",\n",
        "  \"CAA\": \"Q\",\n",
        "  \"CAG\": \"Q\",\n",
        "  \"AAT\": \"N\",\n",
        "  \"AAC\": \"N\",\n",
        "  \"AAA\": \"K\",\n",
        "  \"AAG\": \"K\",\n",
        "  \"GAT\": \"D\",\n",
        "  \"GAC\": \"D\",\n",
        "  \"GAA\": \"E\",\n",
        "  \"GAG\": \"E\",\n",
        "  \"TGT\": \"C\",\n",
        "  \"TGC\": \"C\",\n",
        "  \"TGA\": \"*\",\n",
        "  \"TGG\": \"W\",\n",
        "  \"CGT\": \"R\",\n",
        "  \"CGC\": \"R\",\n",
        "  \"CGA\": \"R\",\n",
        "  \"CGG\": \"R\",\n",
        "  \"AGT\": \"S\",\n",
        "  \"AGC\": \"S\",\n",
        "  \"AGA\": \"R\",\n",
        "  \"AGG\": \"R\",\n",
        "  \"GGT\": \"G\",\n",
        "  \"GGC\": \"G\",\n",
        "  \"GGA\": \"G\",\n",
        "  \"GGG\": \"G\",\n",
        "}\n",
        "\n",
        "def translate(sequence):\n",
        "  peptide_sequence = []\n",
        "  for i in range(0, len(sequence) - 2, 3):\n",
        "    peptide_sequence += [codons[sequence[i: i+3]]]\n",
        "  return ''.join(peptide_sequence)\n",
        "\n",
        "sequence = \"ATGCATGGTTGAGGCGGCATGCGTCGCGATTGG\"\n",
        "print(translate(sequence))"
      ],
      "execution_count": 4,
      "outputs": [
        {
          "output_type": "stream",
          "name": "stdout",
          "text": [
            "MHG*GGMRRDW\n"
          ]
        }
      ]
    },
    {
      "cell_type": "markdown",
      "metadata": {
        "id": "3-KHtLeePsQ4"
      },
      "source": [
        "\n",
        "\n",
        "---\n",
        "1.4) Write a function to translate DNA sequences in all 6 frames into peptide sequences! The longest peptide sequence per DNA sequence should be returned!\n"
      ]
    },
    {
      "cell_type": "code",
      "metadata": {
        "id": "s50AlgALP8I3",
        "colab": {
          "base_uri": "https://localhost:8080/"
        },
        "outputId": "2a6ad7df-9276-4fb2-9f8f-fb6c70aace39"
      },
      "source": [
        "\"\"\"\n",
        "Translates a DNA sequence in all 6 frames into peptide sequences\n",
        "and yields the peptide sequences.\n",
        "\"\"\"\n",
        "def translate_all_frames(sequence):\n",
        "  for i in range(3):\n",
        "    yield translate(sequence[i:])\n",
        "  \n",
        "  rev_comp = get_reverse_complement(sequence)\n",
        "  for i in range(3):\n",
        "    yield translate(rev_comp[i:])\n",
        "\n",
        "\"\"\"\n",
        "Find a longest valid peptide sequence, meaning one that starts with\n",
        "M, in a peptide sequence.\n",
        "\"\"\"\n",
        "def get_longest_peptide_sequence(sequence):\n",
        "  longest_length = 0\n",
        "  longest_peptide_sequence = \"\"\n",
        "  \n",
        "  current_sequence = []\n",
        "  currently_in_sequence = False\n",
        "  for peptide in sequence:\n",
        "    if currently_in_sequence:\n",
        "      # encounter a stop codon\n",
        "      if peptide == \"*\":\n",
        "        if current_sequence:\n",
        "          # update longest observed sequence and length if necessary\n",
        "          if len(current_sequence) > longest_length:\n",
        "            longest_length = len(current_sequence)\n",
        "            longest_peptide_sequence = ''.join(current_sequence)\n",
        "        # clear current sequence\n",
        "        current_sequence = []\n",
        "        currently_in_sequence = False\n",
        "      else:\n",
        "        # sequence extend continues\n",
        "        current_sequence += [peptide]\n",
        "    # currently not in a valid peptide sequence\n",
        "    else:\n",
        "      # encounter a start peptide\n",
        "      if peptide == \"M\":\n",
        "        current_sequence += [peptide]\n",
        "        currently_in_sequence = True\n",
        "      # if we are not in a valid peptide sequence and the current peptide is not\n",
        "      # a start peptide, simply continue\n",
        "\n",
        "  if current_sequence:\n",
        "    if len(current_sequence) > longest_length:\n",
        "      longest_length = len(current_sequence)\n",
        "      longest_peptide_sequence = ''.join(current_sequence)\n",
        "\n",
        "  return longest_peptide_sequence\n",
        "\n",
        "\"\"\"\n",
        "Computes a longest valid peptide sequence for each of the 6 frames and yields it.\n",
        "\"\"\"\n",
        "def longest_peptide_sequence_per_frame(sequence):\n",
        "  for frame in translate_all_frames(sequence):\n",
        "    yield get_longest_peptide_sequence(frame)\n",
        "\n",
        "print(\"Reading frames:\")\n",
        "for frame in translate_all_frames(sequence):\n",
        "  print(frame)\n",
        "print(\"\")\n",
        "\n",
        "print(\"Longest valid peptide sequence:\")\n",
        "print(get_longest_peptide_sequence(translate(sequence)))\n",
        "print(\"\")\n",
        "\n",
        "print(\"Longest valid peptide sequence per frame:\")\n",
        "for longest_peptide_sequence in longest_peptide_sequence_per_frame(sequence):\n",
        "  print(longest_peptide_sequence)"
      ],
      "execution_count": 5,
      "outputs": [
        {
          "output_type": "stream",
          "name": "stdout",
          "text": [
            "Reading frames:\n",
            "MHG*GGMRRDW\n",
            "CMVEAACVAI\n",
            "AWLRRHASRL\n",
            "PIATHAASTMH\n",
            "QSRRMPPQPC\n",
            "NRDACRLNHA\n",
            "\n",
            "Longest valid peptide sequence:\n",
            "MRRDW\n",
            "\n",
            "Longest valid peptide sequence per frame:\n",
            "MRRDW\n",
            "MVEAACVAI\n",
            "\n",
            "MH\n",
            "MPPQPC\n",
            "\n"
          ]
        }
      ]
    },
    {
      "cell_type": "code",
      "source": [
        ""
      ],
      "metadata": {
        "id": "qVG6EhGwwANL"
      },
      "execution_count": null,
      "outputs": []
    }
  ]
}