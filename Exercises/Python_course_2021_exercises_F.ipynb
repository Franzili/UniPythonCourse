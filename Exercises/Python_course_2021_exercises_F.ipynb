{
  "nbformat": 4,
  "nbformat_minor": 0,
  "metadata": {
    "colab": {
      "name": "Python_course_2021_exercises_F.ipynb",
      "provenance": [],
      "collapsed_sections": []
    },
    "kernelspec": {
      "name": "python3",
      "display_name": "Python 3"
    }
  },
  "cells": [
    {
      "cell_type": "markdown",
      "metadata": {
        "id": "C6hjQZrrO1lx"
      },
      "source": [
        "# Python course 2021 - Exercises F"
      ]
    },
    {
      "cell_type": "markdown",
      "metadata": {
        "id": "RoMsf4tCO3CA"
      },
      "source": [
        "## Part1 - DNA, RNA and peptide sequences"
      ]
    },
    {
      "cell_type": "markdown",
      "metadata": {
        "id": "3_wMYLkSPBrx"
      },
      "source": [
        "\n",
        "\n",
        "---\n",
        "1.1) Write a function to get the reverse complement (upper case letters) of a DNA sequence given in upper case letters!\n"
      ]
    },
    {
      "cell_type": "code",
      "metadata": {
        "id": "Uq70MpOBPMpe",
        "outputId": "a58dc717-8261-4b7d-9ea3-db3976bc6797",
        "colab": {
          "base_uri": "https://localhost:8080/"
        }
      },
      "source": [
        "dna_alphabet = 'ACGT'\n",
        "\n",
        "def rev_comp(sequence):\n",
        "  rev_comp = \"\"\n",
        "  for base in sequence:\n",
        "    if base not in dna_alphabet:\n",
        "      print(\"This is not a DNA sequence!\")\n",
        "      exit(1)\n",
        "    if base == 'A':\n",
        "      rev_comp += 'T'\n",
        "    elif base == 'C':\n",
        "      rev_comp += 'G'\n",
        "    elif base == 'G':\n",
        "      rev_comp += 'C'\n",
        "    elif base == 'T':\n",
        "      rev_comp += 'A'\n",
        "  return rev_comp[::-1]\n",
        "\n",
        "print(rev_comp(\"GTTATACA\"))"
      ],
      "execution_count": 4,
      "outputs": [
        {
          "output_type": "stream",
          "name": "stdout",
          "text": [
            "TGTATAAC\n"
          ]
        }
      ]
    },
    {
      "cell_type": "markdown",
      "metadata": {
        "id": "trElcFlcPMzg"
      },
      "source": [
        "\n",
        "\n",
        "---\n",
        "1.2) Write a function to convert a DNA sequence into a RNA sequence!\n"
      ]
    },
    {
      "cell_type": "code",
      "metadata": {
        "id": "ahMEGCWTPUAY"
      },
      "source": [
        "def convert_dna_to_rna(sequence):\n",
        "  for base in sequence:\n",
        "    if base not in dna_alphabet:\n",
        "      print(\"This is not a DNA sequence!\")\n",
        "      exit(1)\n",
        "    "
      ],
      "execution_count": null,
      "outputs": []
    },
    {
      "cell_type": "markdown",
      "metadata": {
        "id": "EOMgpzlnPUJ6"
      },
      "source": [
        "\n",
        "\n",
        "---\n",
        "1.3) Write a function to translate a DNA sequence into amino acids (first frame only)!\n",
        "* Tip: [wiki - codon tables](https://en.wikipedia.org/wiki/DNA_and_RNA_codon_tables)\n"
      ]
    },
    {
      "cell_type": "code",
      "metadata": {
        "id": "aFVhE4KEPrM4"
      },
      "source": [
        ""
      ],
      "execution_count": null,
      "outputs": []
    },
    {
      "cell_type": "markdown",
      "metadata": {
        "id": "3-KHtLeePsQ4"
      },
      "source": [
        "\n",
        "\n",
        "---\n",
        "1.4) Write a function to translate DNA sequences in all 6 frames into peptide sequences! The longest peptide sequence per DNA sequence should be returned!\n"
      ]
    },
    {
      "cell_type": "code",
      "metadata": {
        "id": "s50AlgALP8I3"
      },
      "source": [
        ""
      ],
      "execution_count": null,
      "outputs": []
    }
  ]
}