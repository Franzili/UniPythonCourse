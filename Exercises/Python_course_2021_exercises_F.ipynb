{
  "nbformat": 4,
  "nbformat_minor": 0,
  "metadata": {
    "colab": {
      "name": "Python_course_2021_exercises_F.ipynb",
      "provenance": [],
      "collapsed_sections": []
    },
    "kernelspec": {
      "name": "python3",
      "display_name": "Python 3"
    }
  },
  "cells": [
    {
      "cell_type": "markdown",
      "metadata": {
        "id": "C6hjQZrrO1lx"
      },
      "source": [
        "# Python course 2021 - Exercises F"
      ]
    },
    {
      "cell_type": "markdown",
      "metadata": {
        "id": "RoMsf4tCO3CA"
      },
      "source": [
        "## Part1 - DNA, RNA and peptide sequences"
      ]
    },
    {
      "cell_type": "markdown",
      "metadata": {
        "id": "3_wMYLkSPBrx"
      },
      "source": [
        "\n",
        "\n",
        "---\n",
        "1.1) Write a function to get the reverse complement (upper case letters) of a DNA sequence given in upper case letters!\n"
      ]
    },
    {
      "cell_type": "code",
      "metadata": {
        "id": "Uq70MpOBPMpe",
        "colab": {
          "base_uri": "https://localhost:8080/"
        },
        "outputId": "26c5e100-970d-4497-8cf5-1bf20e62261b"
      },
      "source": [
        "dna_alphabet = 'ACGT'\n",
        "\n",
        "def rev_comp(sequence):\n",
        "  rev_comp = \"\"\n",
        "  for base in sequence:\n",
        "    if base not in dna_alphabet:\n",
        "      print(\"This is not a DNA sequence!\")\n",
        "      exit(1)\n",
        "    if base == 'A':\n",
        "      rev_comp += 'T'\n",
        "    elif base == 'C':\n",
        "      rev_comp += 'G'\n",
        "    elif base == 'G':\n",
        "      rev_comp += 'C'\n",
        "    elif base == 'T':\n",
        "      rev_comp += 'A'\n",
        "  return rev_comp[::-1]\n",
        "\n",
        "print(rev_comp(\"GTTATACA\"))"
      ],
      "execution_count": 12,
      "outputs": [
        {
          "output_type": "stream",
          "name": "stdout",
          "text": [
            "TGTATAAC\n"
          ]
        }
      ]
    },
    {
      "cell_type": "markdown",
      "metadata": {
        "id": "trElcFlcPMzg"
      },
      "source": [
        "\n",
        "\n",
        "---\n",
        "1.2) Write a function to convert a DNA sequence into a RNA sequence!\n"
      ]
    },
    {
      "cell_type": "code",
      "metadata": {
        "id": "ahMEGCWTPUAY",
        "colab": {
          "base_uri": "https://localhost:8080/"
        },
        "outputId": "0777f356-19ed-496a-f1d0-b563e9dd0bf4"
      },
      "source": [
        "rna_alphabet = 'ACGU'\n",
        "def convert_dna_to_rna(sequence):\n",
        "  rna_sequence = \"\"\n",
        "  for base in sequence:\n",
        "    if not (base in dna_alphabet):\n",
        "      print(\"This is not a DNA sequence!\")\n",
        "      exit(1)\n",
        "    if base == 'T':\n",
        "      rna_sequence += 'U'\n",
        "    else:\n",
        "      rna_sequence += base \n",
        "  return rna_sequence\n",
        "\n",
        "print(convert_dna_to_rna(\"GGCAACGATGGGCTTTC\"))"
      ],
      "execution_count": 6,
      "outputs": [
        {
          "output_type": "stream",
          "name": "stdout",
          "text": [
            "GGCAACGAUGGGCUUUC\n"
          ]
        }
      ]
    },
    {
      "cell_type": "markdown",
      "metadata": {
        "id": "EOMgpzlnPUJ6"
      },
      "source": [
        "\n",
        "\n",
        "---\n",
        "1.3) Write a function to translate a DNA sequence into amino acids (first frame only)!\n",
        "* Tip: [wiki - codon tables](https://en.wikipedia.org/wiki/DNA_and_RNA_codon_tables)\n"
      ]
    },
    {
      "cell_type": "code",
      "metadata": {
        "id": "aFVhE4KEPrM4",
        "colab": {
          "base_uri": "https://localhost:8080/"
        },
        "outputId": "79934763-5771-4c13-aac8-d9dde08489c9"
      },
      "source": [
        "amino_alphabet = 'ARNDCQEGHILKMFPSTWYVUO'\n",
        "triplet_table = {\n",
        "    'GCU': 'A', 'GCC': 'A', 'GCA': 'A', 'GCG': 'A',\n",
        "    'CGU': 'R', 'CGC': 'R', 'CGA': 'R', 'CGG': 'R', 'AGA': 'R', 'AGG': 'R',\n",
        "    'AAU': 'N', 'AAC': 'N',\n",
        "    'GAU': 'D', 'GAC': 'D',\n",
        "    'AAU': 'B', 'AAC': 'B', 'GAU': 'B', 'GAC': 'B',\n",
        "    'UGU': 'C', 'UGC': 'C',\n",
        "    'CAA': 'Q', 'CAG': 'Q',\n",
        "    'GAA': 'G', 'GAG': 'G',\n",
        "    'CAA': 'Z', 'CAG': 'Z', 'GAA': 'Z', 'GAG': 'Z',\n",
        "    'GGU': 'G', 'GGC': 'G', 'GGA': 'G', 'GGG': 'G',\n",
        "    'CAU': 'H', 'CAC': 'H',\n",
        "    'AUU': 'I', 'AUC': 'I', 'AUA': 'I',\n",
        "    'CUU': 'L', 'CUC': 'L', 'CUA': 'L', 'CUG': 'L', 'UUA': 'L', 'UUG': 'L',\n",
        "    'AAA': 'K', 'AAG': 'K',\n",
        "    'AUG': 'M',\n",
        "    'UUU': 'F', 'UUC': 'F',\n",
        "    'CCU': 'P', 'CCC': 'P', 'CCA': 'P', 'CCG': 'P',\n",
        "    'UCU': 'S', 'UCC': 'S', 'UCA': 'S', 'UCG': 'S', 'AGU': 'S', 'AGC': 'S',\n",
        "    'ACU': 'T', 'ACC': 'T', 'ACA': 'T', 'ACG': 'T',\n",
        "    'UGG': 'W',\n",
        "    'UAU': 'Y', 'UAC': 'Y',\n",
        "    'GUU': 'V', 'GUC': 'V', 'GUA': 'V', 'GUG': 'V'\n",
        "}\n",
        "start = 'AUG'\n",
        "stop = ('UAA', 'UGA', 'UAG')\n",
        "\n",
        "def convert_dna_to_amino(sequence):\n",
        "  rna_sequence = convert_dna_to_rna(sequence)\n",
        "  amino_sequence = \"\"\n",
        "  if rna_sequence.find('AUG') == -1:    # s.find(x) returns -1 if x could not be found in s\n",
        "    print(\"No start codon found!\")\n",
        "    exit(1)\n",
        "  for i in range(rna_sequence.find('AUG'), len(rna_sequence)-2):\n",
        "    if rna_sequence[i:i+3] in stop:\n",
        "      break\n",
        "    triplet = triplet_table[rna_sequence[i:i+3]]\n",
        "    amino_sequence += triplet\n",
        "    print(rna_sequence[i:i+3], triplet)\n",
        "  return amino_sequence\n",
        "\n",
        "print(\"Resulting amino sequence:\", convert_dna_to_amino('ACCCGTTTTGGAGACTATGGGGCCGTGAAA'))\n",
        "  "
      ],
      "execution_count": 18,
      "outputs": [
        {
          "output_type": "stream",
          "name": "stdout",
          "text": [
            "AUG M\n",
            "UGG W\n",
            "GGG G\n",
            "GGG G\n",
            "GGC G\n",
            "GCC A\n",
            "CCG P\n",
            "CGU R\n",
            "GUG V\n",
            "Resulting amino sequence: MWGGGAPRV\n"
          ]
        }
      ]
    },
    {
      "cell_type": "markdown",
      "metadata": {
        "id": "3-KHtLeePsQ4"
      },
      "source": [
        "\n",
        "\n",
        "---\n",
        "1.4) Write a function to translate DNA sequences in all 6 frames into peptide sequences! The longest peptide sequence per DNA sequence should be returned!\n"
      ]
    },
    {
      "cell_type": "code",
      "metadata": {
        "id": "s50AlgALP8I3",
        "colab": {
          "base_uri": "https://localhost:8080/"
        },
        "outputId": "4de87141-0ce6-48ac-a63a-31a8b4afda66"
      },
      "source": [
        "def convert_dna_to_peptides_all_frames(sequence):\n",
        "  rev_complement = rev_comp(sequence)\n",
        "  fwd_strand = convert_dna_to_rna(sequence)\n",
        "  rev_strand = convert_dna_to_rna(rev_complement)\n",
        "  frame1 = \"\"\n",
        "  frame2 = \"\"\n",
        "  frame3 = \"\"\n",
        "\n",
        "  frame4 = \"\"\n",
        "  frame5 = \"\"\n",
        "  frame6 = \"\"\n",
        "  for i in range(len(sequence)-2):\n",
        "    if fwd_strand[i:i+3] in stop or rev_strand[i:i+3] in stop:\n",
        "      break\n",
        "\n",
        "    frame1 += triplet_table[fwd_strand[i:i+3]]\n",
        "    frame4 += triplet_table[rev_strand[i:i+3]]\n",
        "\n",
        "    if i > len(sequence)-3:\n",
        "      continue\n",
        "    if fwd_strand[+1:i+4] in stop or rev_strand[i+1:i+4] in stop:\n",
        "      break\n",
        "    frame2 += triplet_table[fwd_strand[i+1:i+4]]\n",
        "    frame5 += triplet_table[rev_strand[i+1:i+4]]\n",
        "\n",
        "    if i > len(sequence)-4:\n",
        "      continue\n",
        "    if fwd_strand[i+2:i+5] in stop or rev_strand[i+2:i+5] in stop:\n",
        "      break\n",
        "    frame3 += triplet_table[fwd_strand[i+2:i+5]]\n",
        "    frame6 += triplet_table[rev_strand[i+2:i+5]]\n",
        "  return frame1, frame2, frame3, frame4, frame5, frame6\n",
        "\n",
        "input = 'ACCCGTTTTGGAGACTATGGGGCCGTGAAA'\n",
        "print(input)\n",
        "print(\"Translation for all six frames:\", convert_dna_to_peptides_all_frames(input))"
      ],
      "execution_count": 25,
      "outputs": [
        {
          "output_type": "stream",
          "name": "stdout",
          "text": [
            "ACCCGTTTTGGAGACTATGGGGCCGTGAAA\n",
            "Translation for all six frames: ('TPPRVFFLWGZR', 'PPRVFFLWGZRB', 'PRVFFLWGZRB', 'FFSHTRGAPPPH', 'FSHTRGAPPPHI', 'SHTRGAPPPHI')\n"
          ]
        }
      ]
    }
  ]
}