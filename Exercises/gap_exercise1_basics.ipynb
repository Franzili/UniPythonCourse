{
  "nbformat": 4,
  "nbformat_minor": 0,
  "metadata": {
    "colab": {
      "name": "gaps_exercises1.ipynb",
      "provenance": [],
      "collapsed_sections": []
    },
    "kernelspec": {
      "name": "python3",
      "display_name": "Python 3"
    },
    "language_info": {
      "name": "python"
    }
  },
  "cells": [
    {
      "cell_type": "markdown",
      "source": [
        "# Python course - Exercises Gap text"
      ],
      "metadata": {
        "id": "kH0p2uT-sQ6y"
      }
    },
    {
      "cell_type": "markdown",
      "source": [
        "Correct the Code"
      ],
      "metadata": {
        "id": "uW9SoYEyrlRL"
      }
    },
    {
      "cell_type": "code",
      "source": [
        "# What is missing here? Expected output: Hi!\n",
        "    ('Hi!')"
      ],
      "metadata": {
        "id": "Qflb9AWfrykh"
      },
      "execution_count": null,
      "outputs": []
    },
    {
      "cell_type": "code",
      "source": [
        "# Here are two mistakes. Can you find them?\n",
        "    Hi! I am a comment. How are you?\n",
        "\n",
        "    print('Hello world!')"
      ],
      "metadata": {
        "id": "eemU0jTksxu5"
      },
      "execution_count": null,
      "outputs": []
    },
    {
      "cell_type": "code",
      "source": [
        "# Multi-line comments\n",
        "\n",
        "I want to be a\n",
        "mutli line comment.\n",
        "\"\"\" \n",
        "print('Hello world!')"
      ],
      "metadata": {
        "id": "2ysNg9wDtaZ9"
      },
      "execution_count": null,
      "outputs": []
    },
    {
      "cell_type": "code",
      "source": [
        "# Expected output: 5\n",
        "c = 5    \n",
        "print(     )"
      ],
      "metadata": {
        "id": "Vexbuvx1u1NS"
      },
      "execution_count": null,
      "outputs": []
    },
    {
      "cell_type": "code",
      "source": [
        "# How to print two strings as one. Expected output: Hello world\n",
        "a = 'Hello'\n",
        "b = 'world'\n",
        "print( a   b )"
      ],
      "metadata": {
        "id": "cGTJ95-9wzLT"
      },
      "execution_count": null,
      "outputs": []
    },
    {
      "cell_type": "code",
      "source": [
        "# Variable types\n",
        "# Does the error output help you?\n",
        "a = 'Hello'\n",
        "b =   0   \n",
        "print( a + b )"
      ],
      "metadata": {
        "id": "6QiU3l2_xFnP"
      },
      "execution_count": null,
      "outputs": []
    },
    {
      "cell_type": "code",
      "source": [
        "# What is missing?\n",
        "a = 'Hello'\n",
        "b = a\n",
        "\n",
        "if a == b:\n",
        "print('Same!')"
      ],
      "metadata": {
        "id": "_YtGF9xqzFoR"
      },
      "execution_count": null,
      "outputs": []
    },
    {
      "cell_type": "code",
      "source": [
        "# Print the variable type\n",
        "# Expected output: a is of type <class 'str'>\n",
        "a = 'How are you?\n",
        "print('a is of type',     (a))"
      ],
      "metadata": {
        "id": "wH0ifA4czyDV"
      },
      "execution_count": null,
      "outputs": []
    },
    {
      "cell_type": "code",
      "source": [
        "# Variable names: What is allowed and what not?\n",
        "_1th_string   = \"Hello\"\n",
        "second_string = 'world'\n",
        "3rd_string    = '!'\n",
        "FOURTH_STRING = 'How'\n",
        "FIFTH STRING  = 'are'\n",
        "_6th-string   = 'you?'\n",
        "\n",
        "print(_1th_string, second_string, \n",
        "      3rd_string, FOURTH_STRING,\n",
        "      FIFTH STRING, _6th-string\n",
        "      )"
      ],
      "metadata": {
        "id": "Spcu5lGc0Uv9"
      },
      "execution_count": null,
      "outputs": []
    },
    {
      "cell_type": "code",
      "source": [
        "# convert b into float\n",
        "a = 2\n",
        "b =     (a)\n",
        "print(b)"
      ],
      "metadata": {
        "id": "_TcdURMh2yJZ"
      },
      "execution_count": null,
      "outputs": []
    },
    {
      "cell_type": "code",
      "source": [
        "# How to access Lists?\n",
        "my_list = [\"!\", \"Hello\", 'you', \"How\", '?', 1, 'are', 2, 3, \"world\"]\n",
        "print(my_list)\n",
        "print(my_list[  ]) # print '!'\n",
        "print(my_list[  ]) # print 'Hello'\n",
        "print(my_list[  ]) # print the last element of a list without the real index; here 'world'\n",
        "### print 'Hello world! How are you?':\n",
        "print(my_list[  ], my_list[  ] ,my_list[0] ,my_list[  ] ,my_list[  ] ,my_list[  ], my_list[4])"
      ],
      "metadata": {
        "id": "5VripGXYxBf8"
      },
      "execution_count": null,
      "outputs": []
    },
    {
      "cell_type": "code",
      "source": [
        "# Indices of Strings\n",
        "a = 'Hello world!'\n",
        "print(a[  ]) # only print !\n",
        "print(a[  ]) # only print H\n",
        "print(a[  ]) # only print 'world', without '!'"
      ],
      "metadata": {
        "id": "V3VJP2gg1HLT"
      },
      "execution_count": null,
      "outputs": []
    },
    {
      "cell_type": "code",
      "source": [
        "# Dictionaries\n",
        "my_dict = { 'chr1' : 'gene1', 'chr2' : 'gene3' }\n",
        "print(my_dict[   ]) # print gene1 of the dictionary"
      ],
      "metadata": {
        "id": "6e6KYBcQ0qa3"
      },
      "execution_count": null,
      "outputs": []
    },
    {
      "cell_type": "code",
      "source": [
        "# Dictionaries2; Find the mistake\n",
        "my_dict = { 'chr1' : 'gene1', 'chr1' : 'gene3' }\n",
        "print(my_dict[   ]) # print gene1 of the dictionary"
      ],
      "metadata": {
        "id": "44dxJxK2bR2n"
      },
      "execution_count": null,
      "outputs": []
    },
    {
      "cell_type": "code",
      "source": [
        "# Dictionaries3\n",
        "my_dict = { 'chr1' : ['gene1', 'gene2'], 'chr2' : 'gene3' }\n",
        "print(my_dict[   ][  ]) # print gene2 of the dictionary"
      ],
      "metadata": {
        "id": "RdIWfnVsbpVF"
      },
      "execution_count": null,
      "outputs": []
    },
    {
      "cell_type": "code",
      "source": [
        "# Booleans\n",
        "a = 0\n",
        "b = 1\n",
        "print(bool(   )) # print True; insert the right variable\n",
        "print(bool(   )) # print False; insert the right variable"
      ],
      "metadata": {
        "id": "PrmB8FZD0-PQ"
      },
      "execution_count": null,
      "outputs": []
    }
  ]
}
