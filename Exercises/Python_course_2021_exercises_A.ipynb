{
 "nbformat": 4,
 "nbformat_minor": 0,
 "metadata": {
  "colab": {
   "name": "Python_course_2021_exercises_A.ipynb",
   "provenance": [],
   "collapsed_sections": [],
   "authorship_tag": "ABX9TyOtXoTh9bpM3+wk3vCpa80j"
  },
  "kernelspec": {
   "name": "python3",
   "display_name": "Python 3"
  }
 },
 "cells": [
  {
   "cell_type": "markdown",
   "metadata": {
    "id": "D9wuSivclqKR",
    "pycharm": {
     "name": "#%% md\n"
    }
   },
   "source": [
    "# Python course 2021 - Exercises A"
   ]
  },
  {
   "cell_type": "markdown",
   "metadata": {
    "id": "8nq-mSErlstG",
    "pycharm": {
     "name": "#%% md\n"
    }
   },
   "source": [
    "## Part1 - Variables"
   ]
  },
  {
   "cell_type": "markdown",
   "metadata": {
    "id": "Dc_9QuyRmFB0",
    "pycharm": {
     "name": "#%% md\n"
    }
   },
   "source": [
    "\n",
    "\n",
    "---\n",
    "\n",
    "\n",
    "1.1) Save 3.14159265359 in a variable of type float!"
   ]
  },
  {
   "cell_type": "code",
   "metadata": {
    "id": "t0cbYO8ymZZZ",
    "pycharm": {
     "name": "#%%\n"
    }
   },
   "source": [],
   "execution_count": null,
   "outputs": []
  },
  {
   "cell_type": "markdown",
   "metadata": {
    "id": "8GnX41irmahZ",
    "pycharm": {
     "name": "#%% md\n"
    }
   },
   "source": [
    "\n",
    "\n",
    "---\n",
    "\n",
    "1.2) Convert variable from float to integer!\n",
    "\n",
    "\n",
    "\n"
   ]
  },
  {
   "cell_type": "code",
   "metadata": {
    "id": "IF5LB4a1mrIq",
    "pycharm": {
     "name": "#%%\n"
    }
   },
   "source": [],
   "execution_count": null,
   "outputs": []
  },
  {
   "cell_type": "markdown",
   "metadata": {
    "id": "Wpg5yXPMmx9S",
    "pycharm": {
     "name": "#%% md\n"
    }
   },
   "source": [
    "\n",
    "\n",
    "---\n",
    "\n",
    "1.3) Convert variable back! What happens?"
   ]
  },
  {
   "cell_type": "code",
   "metadata": {
    "id": "MKBxedZxm4Zz",
    "pycharm": {
     "name": "#%%\n"
    }
   },
   "source": [],
   "execution_count": null,
   "outputs": []
  },
  {
   "cell_type": "markdown",
   "metadata": {
    "id": "tadPKecSm4rq",
    "pycharm": {
     "name": "#%% md\n"
    }
   },
   "source": [
    "\n",
    "\n",
    "---\n",
    "1.4) Convert variable type to string!\n"
   ]
  },
  {
   "cell_type": "code",
   "metadata": {
    "id": "1iqoYMyKm47q",
    "pycharm": {
     "name": "#%%\n"
    }
   },
   "source": [],
   "execution_count": null,
   "outputs": []
  },
  {
   "cell_type": "markdown",
   "metadata": {
    "id": "wpSIghwHm5Ej",
    "pycharm": {
     "name": "#%% md\n"
    }
   },
   "source": [
    "\n",
    "\n",
    "---\n",
    "\n",
    "1.5) Save 'Python' in a string variable!"
   ]
  },
  {
   "cell_type": "code",
   "metadata": {
    "id": "N7XlJWFbnGAz",
    "pycharm": {
     "name": "#%%\n"
    }
   },
   "source": [],
   "execution_count": null,
   "outputs": []
  },
  {
   "cell_type": "markdown",
   "metadata": {
    "id": "fBL218wOnGLa",
    "pycharm": {
     "name": "#%% md\n"
    }
   },
   "source": [
    "\n",
    "\n",
    "---\n",
    "1.6) Convert variable type to float! What happens?\n"
   ]
  },
  {
   "cell_type": "code",
   "metadata": {
    "id": "jWenjrpGnLMi",
    "pycharm": {
     "name": "#%%\n"
    }
   },
   "source": [],
   "execution_count": null,
   "outputs": []
  },
  {
   "cell_type": "markdown",
   "metadata": {
    "id": "FB_ZFKiNnLVj",
    "pycharm": {
     "name": "#%% md\n"
    }
   },
   "source": [
    "\n",
    "\n",
    "---\n",
    "\n",
    "\n",
    "1.7) What is a pitfall in regards to division when working with int/float?"
   ]
  },
  {
   "cell_type": "markdown",
   "metadata": {
    "id": "I4ZTk_1wnVYq",
    "pycharm": {
     "name": "#%% md\n"
    }
   },
   "source": [
    "---type your answer here (double click)---"
   ]
  },
  {
   "cell_type": "markdown",
   "metadata": {
    "id": "O5qjeyUhniCs",
    "pycharm": {
     "name": "#%% md\n"
    }
   },
   "source": [
    "## Part2 - Functions"
   ]
  },
  {
   "cell_type": "markdown",
   "metadata": {
    "id": "luO5CdEcnxrz",
    "pycharm": {
     "name": "#%% md\n"
    }
   },
   "source": [
    "Primer: 'ATGCCATGCATTCGACTACG'"
   ]
  },
  {
   "cell_type": "markdown",
   "metadata": {
    "id": "91zd9CgHn4f8",
    "pycharm": {
     "name": "#%% md\n"
    }
   },
   "source": [
    "\n",
    "\n",
    "---\n",
    "\n",
    "\n",
    "2.1) Calculate length of primer and print it!"
   ]
  },
  {
   "cell_type": "code",
   "metadata": {
    "id": "k3FggWgun-cW",
    "executionInfo": {
     "status": "ok",
     "timestamp": 1611064497629,
     "user_tz": -60,
     "elapsed": 575,
     "user": {
      "displayName": "Katharina Sielemann",
      "photoUrl": "",
      "userId": "00960067943696917992"
     }
    },
    "pycharm": {
     "name": "#%%\n"
    }
   },
   "source": [
    "primer = 'ATGCCATGCATTCGACTACG'\n",
    "print(len(primer))"
   ],
   "execution_count": 1,
   "outputs": []
  },
  {
   "cell_type": "markdown",
   "metadata": {
    "id": "vilS9kFun-o6",
    "pycharm": {
     "name": "#%% md\n"
    }
   },
   "source": [
    "\n",
    "\n",
    "---\n",
    "\n",
    "2.2) Get number of 'G's and print it!"
   ]
  },
  {
   "cell_type": "code",
   "metadata": {
    "id": "qTtPu44JoFWb",
    "pycharm": {
     "name": "#%%\n"
    }
   },
   "source": [
    "print(primer.count('G'))"
   ],
   "execution_count": null,
   "outputs": []
  },
  {
   "cell_type": "markdown",
   "metadata": {
    "id": "RhxbY3ReoFeE",
    "pycharm": {
     "name": "#%% md\n"
    }
   },
   "source": [
    "\n",
    "\n",
    "---\n",
    "2.3) Write a function to analyze the nucleotide composition of a primer and print it!\n"
   ]
  },
  {
   "cell_type": "code",
   "metadata": {
    "id": "hPT9ciehoNvl",
    "pycharm": {
     "name": "#%%\n"
    }
   },
   "source": [],
   "execution_count": null,
   "outputs": []
  },
  {
   "cell_type": "markdown",
   "metadata": {
    "id": "nxYFsZTfoN5y",
    "pycharm": {
     "name": "#%% md\n"
    }
   },
   "source": [
    "\n",
    "\n",
    "---\n",
    "2.4) Is it a suitable primer? Why (not)?\n"
   ]
  },
  {
   "cell_type": "markdown",
   "metadata": {
    "id": "YNfwCwHxoT6S",
    "pycharm": {
     "name": "#%% md\n"
    }
   },
   "source": [
    "---type your answer here (double click)---"
   ]
  }
 ]
}