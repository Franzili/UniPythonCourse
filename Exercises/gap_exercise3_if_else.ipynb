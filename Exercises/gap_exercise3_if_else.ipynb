{
 "nbformat": 4,
 "nbformat_minor": 0,
 "metadata": {
  "colab": {
   "name": "gap_exercise3_if_else.ipynb",
   "provenance": [],
   "collapsed_sections": [],
   "authorship_tag": "ABX9TyNhlv7wY42fK2OkTGqTWan3"
  },
  "kernelspec": {
   "name": "python3",
   "display_name": "Python 3"
  },
  "language_info": {
   "name": "python"
  }
 },
 "cells": [
  {
   "cell_type": "markdown",
   "source": [
    "# Python course - Exercises Gap text"
   ],
   "metadata": {
    "id": "kH0p2uT-sQ6y",
    "pycharm": {
     "name": "#%% md\n"
    }
   }
  },
  {
   "cell_type": "markdown",
   "source": [
    "Correct the Code"
   ],
   "metadata": {
    "id": "uW9SoYEyrlRL",
    "pycharm": {
     "name": "#%% md\n"
    }
   }
  },
  {
   "cell_type": "code",
   "source": [
    "# complete the statement for b larger than a\n",
    "a = 5\n",
    "b = 10\n",
    "\n",
    "if b > a:\n",
    "   print('b larger a')"
   ],
   "metadata": {
    "id": "uoscfCSCK980",
    "pycharm": {
     "name": "#%%\n"
    }
   },
   "execution_count": null,
   "outputs": []
  },
  {
   "cell_type": "code",
   "source": [
    "# complete the statements\n",
    "a = 5\n",
    "b = 10\n",
    "c = 5\n",
    "\n",
    "if(a < b) and (a == c):\n",
    "   print('a smaller b, but a equals c')"
   ],
   "metadata": {
    "id": "9DGKzqxWdABE",
    "pycharm": {
     "name": "#%%\n"
    }
   },
   "execution_count": null,
   "outputs": []
  },
  {
   "cell_type": "code",
   "source": [
    "# complete the statements\n",
    "a = 5\n",
    "b = 10\n",
    "c = 5\n",
    "\n",
    "if a <= c:\n",
    "   print('a smaller or equal c')\n",
    "elif a >= b:\n",
    "  print('a larger or equal b')"
   ],
   "metadata": {
    "id": "3ipcaNRCdv9S",
    "pycharm": {
     "name": "#%%\n"
    }
   },
   "execution_count": null,
   "outputs": []
  },
  {
   "cell_type": "code",
   "source": [
    "# complete the statements\n",
    "a = 5\n",
    "b = 10\n",
    "c = 5\n",
    "\n",
    "if a and not c:\n",
    "   print('a not c')\n",
    "elif a == b:\n",
    "  print('a equals b')\n",
    "else:\n",
    "  print('None of the above is true')"
   ],
   "metadata": {
    "id": "w9QBlM8Hel_u",
    "pycharm": {
     "name": "#%%\n"
    }
   },
   "execution_count": null,
   "outputs": []
  },
  {
   "cell_type": "code",
   "source": [
    "# complete the statements\n",
    "a = 5\n",
    "b = 10\n",
    "c = 5\n",
    "\n",
    "if (a != c) or (b != c):\n",
    "   print('a not c OR b not c')\n",
    "else:\n",
    "  print('None of the above is true')"
   ],
   "metadata": {
    "id": "5KfDsRHLfW7k",
    "pycharm": {
     "name": "#%%\n"
    }
   },
   "execution_count": null,
   "outputs": []
  }
 ]
}