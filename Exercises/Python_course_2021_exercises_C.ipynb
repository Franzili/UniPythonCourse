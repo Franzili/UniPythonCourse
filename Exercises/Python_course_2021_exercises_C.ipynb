{
 "nbformat": 4,
 "nbformat_minor": 0,
 "metadata": {
  "colab": {
   "name": "Python_course_2021_exercises_C.ipynb",
   "provenance": [],
   "collapsed_sections": []
  },
  "kernelspec": {
   "name": "python3",
   "display_name": "Python 3"
  }
 },
 "cells": [
  {
   "cell_type": "markdown",
   "metadata": {
    "id": "FyvebZ68I8BJ",
    "pycharm": {
     "name": "#%% md\n"
    }
   },
   "source": [
    "# Python course 2021 - Exercises C"
   ]
  },
  {
   "cell_type": "markdown",
   "metadata": {
    "id": "8PgJ1ymVJCIO",
    "pycharm": {
     "name": "#%% md\n"
    }
   },
   "source": [
    "## Part1 - file handling"
   ]
  },
  {
   "cell_type": "markdown",
   "metadata": {
    "id": "Ws7tJiEXJG8f",
    "pycharm": {
     "name": "#%% md\n"
    }
   },
   "source": [
    "\n",
    "\n",
    "---\n",
    "1.1) Count number of sequences (number of headers) in AtCol0_Exons.fasta!\n"
   ]
  },
  {
   "cell_type": "code",
   "metadata": {
    "id": "JzgmMxR0JVxL",
    "colab": {
     "base_uri": "https://localhost:8080/"
    },
    "outputId": "bb9e7f03-3420-4ab4-d842-da94c97aab9f",
    "pycharm": {
     "name": "#%%\n"
    }
   },
   "source": [
    "from google.colab import drive\n",
    "drive.mount('/content/drive')"
   ],
   "execution_count": 7,
   "outputs": [
    {
     "output_type": "stream",
     "name": "stdout",
     "text": [
      "Drive already mounted at /content/drive; to attempt to forcibly remount, call drive.mount(\"/content/drive\", force_remount=True).\n"
     ]
    }
   ]
  },
  {
   "cell_type": "code",
   "execution_count": null,
   "outputs": [],
   "source": [
    "datei = open(\"/content/drive/MyDrive/ColabNotebooks/UniPythonCourse/Exercises/data/AtCol0_Exons.fasta\", \"r\")\n",
    "lines = datei.readlines()\n",
    "datei.close()\n",
    "\n",
    "# Number of sequences:\n",
    "seq_counter = 0\n",
    "for line in lines:\n",
    "  if line[0] == '>':\n",
    "    seq_counter += 1\n",
    "print(\"There are\", seq_counter, \"sequences in this file!\")"
   ],
   "metadata": {
    "collapsed": false,
    "pycharm": {
     "name": "#%%\n"
    }
   }
  },
  {
   "cell_type": "markdown",
   "source": [
    "\n",
    "\n",
    "---\n",
    "1.2) Count number of sequence lines!\n"
   ],
   "metadata": {
    "collapsed": false,
    "pycharm": {
     "name": "#%% md\n"
    }
   }
  },
  {
   "cell_type": "code",
   "execution_count": null,
   "outputs": [],
   "source": [
    "counter = 0\n",
    "for line in lines:\n",
    "  if line[0] != '>':\n",
    "    counter += 1\n",
    "print(\"There are\", counter, \"sequence lines in this file!\")"
   ],
   "metadata": {
    "collapsed": false,
    "pycharm": {
     "name": "#%%\n"
    }
   }
  },
  {
   "cell_type": "markdown",
   "source": [
    "\n",
    "\n",
    "---\n",
    "1.3) Count number of characters in document! (How many per line?)\n"
   ],
   "metadata": {
    "collapsed": false,
    "pycharm": {
     "name": "#%% md\n"
    }
   }
  },
  {
   "cell_type": "code",
   "execution_count": null,
   "outputs": [],
   "source": [
    "num_chars = 0\n",
    "for line in lines:\n",
    "  num_chars += len(line)\n",
    "print(\"This document contains\", num_chars, \"characters\")"
   ],
   "metadata": {
    "collapsed": false,
    "pycharm": {
     "name": "#%%\n"
    }
   }
  },
  {
   "cell_type": "markdown",
   "source": [
    "\n",
    "\n",
    "---\n",
    "1.4) How long are all contained sequences combined?\n"
   ],
   "metadata": {
    "collapsed": false,
    "pycharm": {
     "name": "#%% md\n"
    }
   }
  },
  {
   "cell_type": "code",
   "execution_count": null,
   "outputs": [],
   "source": [
    "cumulative_length = 0\n",
    "for line in lines:\n",
    "  if line[0] != '>':\n",
    "    cumulative_length += len(line.strip())\n",
    "print(\"The cumulative length of all sequences combined is\", cumulative_length)"
   ],
   "metadata": {
    "collapsed": false,
    "pycharm": {
     "name": "#%%\n"
    }
   }
  },
  {
   "cell_type": "markdown",
   "source": [
    "\n",
    "\n",
    "---\n",
    "1.5) Calculate the average sequence length in this file!\n"
   ],
   "metadata": {
    "collapsed": false,
    "pycharm": {
     "name": "#%% md\n"
    }
   }
  },
  {
   "cell_type": "code",
   "execution_count": null,
   "outputs": [],
   "source": [
    "# Using the sequence counter (seq_counter) from task 1\n",
    "print(\"On average, a sequence in this file is\", cumulative_length/seq_counter, \"bases long\")"
   ],
   "metadata": {
    "collapsed": false,
    "pycharm": {
     "name": "#%%\n"
    }
   }
  }
 ]
}