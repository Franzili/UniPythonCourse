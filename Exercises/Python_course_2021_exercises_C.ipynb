{
 "nbformat": 4,
 "nbformat_minor": 0,
 "metadata": {
  "colab": {
   "name": "Python_course_2021_exercises_C.ipynb",
   "provenance": [],
   "collapsed_sections": []
  },
  "kernelspec": {
   "name": "python3",
   "display_name": "Python 3"
  }
 },
 "cells": [
  {
   "cell_type": "markdown",
   "metadata": {
    "id": "FyvebZ68I8BJ",
    "pycharm": {
     "name": "#%% md\n"
    }
   },
   "source": [
    "# Python course 2021 - Exercises C"
   ]
  },
  {
   "cell_type": "markdown",
   "metadata": {
    "id": "8PgJ1ymVJCIO",
    "pycharm": {
     "name": "#%% md\n"
    }
   },
   "source": [
    "## Part1 - file handling"
   ]
  },
  {
   "cell_type": "markdown",
   "metadata": {
    "id": "Ws7tJiEXJG8f",
    "pycharm": {
     "name": "#%% md\n"
    }
   },
   "source": [
    "\n",
    "\n",
    "---\n",
    "1.1) Count number of sequences (number of headers) in AtCol0_Exons.fasta!\n"
   ]
  },
  {
   "cell_type": "code",
   "metadata": {
    "id": "JzgmMxR0JVxL",
    "colab": {
     "base_uri": "https://localhost:8080/"
    },
    "outputId": "d4258819-3a1d-49c7-93e3-a4533450778e",
    "pycharm": {
     "name": "#%%\n"
    }
   },
   "source": [
    "from google.colab import drive\n",
    "drive.mount('/content/drive')"
   ],
   "execution_count": 2,
   "outputs": [
    {
     "ename": "ModuleNotFoundError",
     "evalue": "No module named 'google.colab'",
     "output_type": "error",
     "traceback": [
      "\u001B[0;31m---------------------------------------------------------------------------\u001B[0m",
      "\u001B[0;31mModuleNotFoundError\u001B[0m                       Traceback (most recent call last)",
      "Input \u001B[0;32mIn [2]\u001B[0m, in \u001B[0;36m<cell line: 1>\u001B[0;34m()\u001B[0m\n\u001B[0;32m----> 1\u001B[0m \u001B[38;5;28;01mfrom\u001B[39;00m \u001B[38;5;21;01mgoogle\u001B[39;00m\u001B[38;5;21;01m.\u001B[39;00m\u001B[38;5;21;01mcolab\u001B[39;00m \u001B[38;5;28;01mimport\u001B[39;00m drive\n\u001B[1;32m      2\u001B[0m drive\u001B[38;5;241m.\u001B[39mmount(\u001B[38;5;124m'\u001B[39m\u001B[38;5;124m/content/drive\u001B[39m\u001B[38;5;124m'\u001B[39m)\n",
      "\u001B[0;31mModuleNotFoundError\u001B[0m: No module named 'google.colab'"
     ]
    }
   ]
  },
  {
   "cell_type": "code",
   "metadata": {
    "id": "oEJidIAEy8S5",
    "pycharm": {
     "name": "#%%\n"
    }
   },
   "source": [
    "datei = open(\"/content/drive/MyDrive/ColabNotebooks/UniPythonCourse/Exercises/data/AtCol0_Exons.fasta\", \"r\")\n",
    "lines = datei.readlines()\n",
    "datei.close()"
   ],
   "execution_count": null,
   "outputs": []
  },
  {
   "cell_type": "markdown",
   "metadata": {
    "id": "rFtHoz5UKujx",
    "pycharm": {
     "name": "#%% md\n"
    }
   },
   "source": [
    "\n",
    "\n",
    "---\n",
    "1.2) Count number of sequence lines!\n"
   ]
  },
  {
   "cell_type": "code",
   "metadata": {
    "id": "AgMttuZlKyBg",
    "pycharm": {
     "name": "#%%\n"
    },
    "colab": {
     "base_uri": "https://localhost:8080/"
    },
    "outputId": "8ad7815c-7ab4-4441-f7da-ce84fcbbab5d"
   },
   "source": [
    "counter = 0\n",
    "for line in lines:\n",
    "  if line[0] != '>':\n",
    "    counter += 1\n",
    "print(\"There are\", counter, \"sequence lines in this file!\")"
   ],
   "execution_count": null,
   "outputs": []
  },
  {
   "cell_type": "markdown",
   "metadata": {
    "id": "YTH3rkjJKyNm",
    "pycharm": {
     "name": "#%% md\n"
    }
   },
   "source": [
    "\n",
    "\n",
    "---\n",
    "1.3) Count number of characters in document! (How many per line?)\n"
   ]
  },
  {
   "cell_type": "code",
   "metadata": {
    "id": "6ECkHsa9K3-X",
    "pycharm": {
     "name": "#%%\n"
    },
    "colab": {
     "base_uri": "https://localhost:8080/"
    },
    "outputId": "70d7c6b8-6364-440c-a956-43d1c5bdf784"
   },
   "source": [
    "num_chars = 0\n",
    "for line in lines:\n",
    "  num_chars += len(line)\n",
    "print(\"This document contains\", num_chars, \"characters\")"
   ],
   "execution_count": null,
   "outputs": []
  },
  {
   "cell_type": "markdown",
   "metadata": {
    "id": "I9bkusUsK4HV",
    "pycharm": {
     "name": "#%% md\n"
    }
   },
   "source": [
    "\n",
    "\n",
    "---\n",
    "1.4) How long are all contained sequences combined?\n"
   ]
  },
  {
   "cell_type": "code",
   "metadata": {
    "id": "XC4que0hK81W",
    "pycharm": {
     "name": "#%%\n"
    },
    "colab": {
     "base_uri": "https://localhost:8080/"
    },
    "outputId": "ec507247-1dab-4bc2-f3b5-e8ffb924918a"
   },
   "source": [
    "cumulative_length = 0\n",
    "for line in lines:\n",
    "  if line[0] != '>':\n",
    "    cumulative_length += len(line)\n",
    "print(cumulative_length)"
   ],
   "execution_count": null,
   "outputs": []
  },
  {
   "cell_type": "markdown",
   "metadata": {
    "id": "5NnxagAWK9AP",
    "pycharm": {
     "name": "#%% md\n"
    }
   },
   "source": [
    "\n",
    "\n",
    "---\n",
    "1.5) Calculate the average sequence length in this file!\n"
   ]
  },
  {
   "cell_type": "code",
   "metadata": {
    "id": "MZNV3sNqLB62",
    "pycharm": {
     "name": "#%%\n"
    },
    "colab": {
     "base_uri": "https://localhost:8080/"
    },
    "outputId": "654ff1ca-2b2f-4c97-d4a1-e52df9dd4d3c"
   },
   "source": [
    "seq_counter = 0\n",
    "for line in lines:\n",
    "  if line[0] != '>':\n",
    "    seq_counter += 1\n",
    "print(\"On average, a sequence in this file is\", cumulative_length/seq_counter, \"bases long\")"
   ],
   "execution_count": null,
   "outputs": []
  },
  {
   "cell_type": "code",
   "execution_count": null,
   "outputs": [],
   "source": [],
   "metadata": {
    "collapsed": false,
    "pycharm": {
     "name": "#%%\n"
    }
   }
  }
 ]
}