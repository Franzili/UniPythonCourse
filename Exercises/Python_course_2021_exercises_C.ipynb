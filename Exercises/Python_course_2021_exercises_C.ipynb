{
  "nbformat": 4,
  "nbformat_minor": 0,
  "metadata": {
    "colab": {
      "name": "Python_course_2021_exercises_C.ipynb",
      "provenance": [],
      "collapsed_sections": []
    },
    "kernelspec": {
      "name": "python3",
      "display_name": "Python 3"
    }
  },
  "cells": [
    {
      "cell_type": "markdown",
      "metadata": {
        "id": "FyvebZ68I8BJ",
        "pycharm": {
          "name": "#%% md\n"
        }
      },
      "source": [
        "# Python course 2021 - Exercises C"
      ]
    },
    {
      "cell_type": "markdown",
      "metadata": {
        "id": "8PgJ1ymVJCIO",
        "pycharm": {
          "name": "#%% md\n"
        }
      },
      "source": [
        "## Part1 - file handling"
      ]
    },
    {
      "cell_type": "markdown",
      "metadata": {
        "id": "Ws7tJiEXJG8f",
        "pycharm": {
          "name": "#%% md\n"
        }
      },
      "source": [
        "\n",
        "\n",
        "---\n",
        "1.1) Count number of sequences (number of headers) in AtCol0_Exons.fasta!\n"
      ]
    },
    {
      "cell_type": "code",
      "metadata": {
        "id": "JzgmMxR0JVxL",
        "colab": {
          "base_uri": "https://localhost:8080/"
        },
        "outputId": "57511440-c563-4a33-db19-a0a18bc1b3af",
        "pycharm": {
          "name": "#%%\n"
        }
      },
      "source": [
        "from google.colab import drive\n",
        "drive.mount('/content/drive')"
      ],
      "execution_count": 7,
      "outputs": [
        {
          "output_type": "stream",
          "name": "stdout",
          "text": [
            "Drive already mounted at /content/drive; to attempt to forcibly remount, call drive.mount(\"/content/drive\", force_remount=True).\n"
          ]
        }
      ]
    },
    {
      "cell_type": "code",
      "metadata": {
        "id": "oEJidIAEy8S5",
        "pycharm": {
          "name": "#%%\n"
        }
      },
      "source": [
        "datei = open(\"/content/drive/MyDrive/ColabNotebooks/UniPythonCourse/Exercises/data/AtCol0_Exons.fasta\", \"r\")\n",
        "lines = datei.readlines()\n",
        "datei.close()"
      ],
      "execution_count": null,
      "outputs": []
    },
    {
      "cell_type": "markdown",
      "metadata": {
        "id": "rFtHoz5UKujx",
        "pycharm": {
          "name": "#%% md\n"
        }
      },
      "source": [
        "\n",
        "\n",
        "---\n",
        "1.2) Count number of sequence lines!\n"
      ]
    },
    {
      "cell_type": "code",
      "metadata": {
        "id": "AgMttuZlKyBg",
        "pycharm": {
          "name": "#%%\n"
        }
      },
      "source": [
        "counter = 0\n",
        "for line in lines:\n",
        "  if line[0] != '>':\n",
        "    counter += 1\n",
        "print(\"There are\", counter, \"sequence lines in this file!\")"
      ],
      "execution_count": null,
      "outputs": []
    },
    {
      "cell_type": "markdown",
      "metadata": {
        "id": "YTH3rkjJKyNm",
        "pycharm": {
          "name": "#%% md\n"
        }
      },
      "source": [
        "\n",
        "\n",
        "---\n",
        "1.3) Count number of characters in document! (How many per line?)\n"
      ]
    },
    {
      "cell_type": "code",
      "metadata": {
        "id": "6ECkHsa9K3-X",
        "pycharm": {
          "name": "#%%\n"
        }
      },
      "source": [
        "num_chars = 0\n",
        "for line in lines:\n",
        "  num_chars += len(line)\n",
        "print(\"This document contains\", num_chars, \"characters\")"
      ],
      "execution_count": null,
      "outputs": []
    },
    {
      "cell_type": "markdown",
      "metadata": {
        "id": "I9bkusUsK4HV",
        "pycharm": {
          "name": "#%% md\n"
        }
      },
      "source": [
        "\n",
        "\n",
        "---\n",
        "1.4) How long are all contained sequences combined?\n"
      ]
    },
    {
      "cell_type": "code",
      "metadata": {
        "id": "XC4que0hK81W",
        "pycharm": {
          "name": "#%%\n"
        },
        "colab": {
          "base_uri": "https://localhost:8080/"
        },
        "outputId": "07d9e75a-bb0d-4d5a-fc56-daa14cd6640e"
      },
      "source": [
        "cumulative_length = 0\n",
        "for line in lines:\n",
        "  if line[0] != '>':\n",
        "    cumulative_length += len(line.strip())\n",
        "print(cumulative_length)"
      ],
      "execution_count": 12,
      "outputs": [
        {
          "output_type": "stream",
          "name": "stdout",
          "text": [
            "64867051\n"
          ]
        }
      ]
    },
    {
      "cell_type": "markdown",
      "metadata": {
        "id": "5NnxagAWK9AP",
        "pycharm": {
          "name": "#%% md\n"
        }
      },
      "source": [
        "\n",
        "\n",
        "---\n",
        "1.5) Calculate the average sequence length in this file!\n"
      ]
    },
    {
      "cell_type": "code",
      "metadata": {
        "id": "MZNV3sNqLB62",
        "pycharm": {
          "name": "#%%\n"
        },
        "colab": {
          "base_uri": "https://localhost:8080/"
        },
        "outputId": "e406e24f-391a-4113-c022-b2d1847916e4"
      },
      "source": [
        "seq_counter = 0\n",
        "for line in lines:\n",
        "  if line[0] == '>':\n",
        "    seq_counter += 1\n",
        "print(\"On average, a sequence in this file is\", cumulative_length/seq_counter, \"bases long\")"
      ],
      "execution_count": 13,
      "outputs": [
        {
          "output_type": "stream",
          "name": "stdout",
          "text": [
            "On average, a sequence in this file is 298.67462462531597 bases long\n"
          ]
        }
      ]
    }
  ]
}