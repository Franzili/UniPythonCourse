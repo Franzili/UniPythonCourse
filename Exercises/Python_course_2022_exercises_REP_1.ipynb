{
  "nbformat": 4,
  "nbformat_minor": 0,
  "metadata": {
    "colab": {
      "name": "Python_course_2022_exercises_REP_1.ipynb",
      "provenance": [],
      "collapsed_sections": [],
      "authorship_tag": "ABX9TyOK+n6xTEMdtlhr0XP+1HC1"
    },
    "kernelspec": {
      "name": "python3",
      "display_name": "Python 3"
    },
    "language_info": {
      "name": "python"
    }
  },
  "cells": [
    {
      "cell_type": "markdown",
      "source": [
        "# Python course 2022 - Repetition 1"
      ],
      "metadata": {
        "id": "rVOAyVk29PEK"
      }
    },
    {
      "cell_type": "markdown",
      "source": [
        "These exercises are meant for repeating most of what you have learned in the course this far. For most of the tasks, you already have partial solutions from the other exercises. We encourage you to make use of those to review them again and maybe spot room for improvement here and there."
      ],
      "metadata": {
        "id": "AKw7LvX5_PDx"
      }
    },
    {
      "cell_type": "markdown",
      "source": [
        "1.1) Print the current time."
      ],
      "metadata": {
        "id": "9vyeiZ6d9cuS"
      }
    },
    {
      "cell_type": "code",
      "source": [
        ""
      ],
      "metadata": {
        "id": "i5YYaJQd9r5R"
      },
      "execution_count": null,
      "outputs": []
    },
    {
      "cell_type": "markdown",
      "source": [
        "1.2) Count the number of genes (not exons) in the AtCol0_Exons.fasta file. How many genes are single-exons genes?"
      ],
      "metadata": {
        "id": "V7JwvoYf9sD7"
      }
    },
    {
      "cell_type": "code",
      "source": [
        ""
      ],
      "metadata": {
        "id": "6Ws6J3hI-GeJ"
      },
      "execution_count": null,
      "outputs": []
    },
    {
      "cell_type": "markdown",
      "source": [
        "1.3) How many of the genes are located on the forward strand? How many are located on the reverse strand?"
      ],
      "metadata": {
        "id": "AdZ6SEqJ-Gjx"
      }
    },
    {
      "cell_type": "code",
      "source": [
        ""
      ],
      "metadata": {
        "id": "7mBK-0Xl-RyB"
      },
      "execution_count": null,
      "outputs": []
    },
    {
      "cell_type": "markdown",
      "source": [
        "1.4) Count the number of genes per chromosome and plot the results."
      ],
      "metadata": {
        "id": "fatnU9Qy-R2q"
      }
    },
    {
      "cell_type": "code",
      "source": [
        ""
      ],
      "metadata": {
        "id": "lH2LJKhV-c85"
      },
      "execution_count": null,
      "outputs": []
    },
    {
      "cell_type": "markdown",
      "source": [
        "1.5) Count the number of genes located on the chondrom and plastom."
      ],
      "metadata": {
        "id": "VNpMY2li-dAh"
      }
    },
    {
      "cell_type": "code",
      "source": [
        ""
      ],
      "metadata": {
        "id": "ub04PoVD-zY5"
      },
      "execution_count": null,
      "outputs": []
    },
    {
      "cell_type": "markdown",
      "source": [
        "1.6) Which of the genes may potentially include the amino acid motive \"WIP\"?"
      ],
      "metadata": {
        "id": "fZVveOUq-zk6"
      }
    },
    {
      "cell_type": "code",
      "source": [
        ""
      ],
      "metadata": {
        "id": "wyInx7BA_OWC"
      },
      "execution_count": null,
      "outputs": []
    }
  ]
}