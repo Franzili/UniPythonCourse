{
 "nbformat": 4,
 "nbformat_minor": 0,
 "metadata": {
  "colab": {
   "name": "Python_course_2021_exercises_E.ipynb",
   "provenance": [],
   "collapsed_sections": [],
   "authorship_tag": "ABX9TyN8v5be18Xq9Ti6f0gcfKxW"
  },
  "kernelspec": {
   "name": "python3",
   "display_name": "Python 3"
  }
 },
 "cells": [
  {
   "cell_type": "markdown",
   "metadata": {
    "id": "pxY28jqUNT_M",
    "pycharm": {
     "name": "#%% md\n"
    }
   },
   "source": [
    "# Python course 2021 - Exercises E"
   ]
  },
  {
   "cell_type": "markdown",
   "metadata": {
    "id": "WGWSyndONVE2",
    "pycharm": {
     "name": "#%% md\n"
    }
   },
   "source": [
    "## Part1 - modules"
   ]
  },
  {
   "cell_type": "markdown",
   "metadata": {
    "id": "a1AOuxVxNYLV",
    "pycharm": {
     "name": "#%% md\n"
    }
   },
   "source": [
    "\n",
    "\n",
    "---\n",
    "1.1) Write all AGIs of AtCol0_exons.fasta into a new file!\n"
   ]
  },
  {
   "cell_type": "code",
   "metadata": {
    "id": "8lRQbs47Ng1h",
    "executionInfo": {
     "status": "ok",
     "timestamp": 1647801820916,
     "user_tz": 420,
     "elapsed": 5,
     "user": {
      "displayName": "Katharina Sielemann",
      "photoUrl": "https://lh3.googleusercontent.com/a/default-user=s64",
      "userId": "00960067943696917992"
     }
    },
    "pycharm": {
     "name": "#%%\n"
    }
   },
   "source": [],
   "execution_count": null,
   "outputs": []
  },
  {
   "cell_type": "markdown",
   "metadata": {
    "id": "kx5tqYs-Ng-z",
    "pycharm": {
     "name": "#%% md\n"
    }
   },
   "source": [
    "\n",
    "\n",
    "---\n",
    "1.2) Some IDs occur multiple times. Add a filter step to reduce the results to unique IDs!\n"
   ]
  },
  {
   "cell_type": "code",
   "metadata": {
    "id": "_mh32ptqNq4a",
    "executionInfo": {
     "status": "ok",
     "timestamp": 1647801820919,
     "user_tz": 420,
     "elapsed": 6,
     "user": {
      "displayName": "Katharina Sielemann",
      "photoUrl": "https://lh3.googleusercontent.com/a/default-user=s64",
      "userId": "00960067943696917992"
     }
    },
    "pycharm": {
     "name": "#%%\n"
    }
   },
   "source": [],
   "execution_count": null,
   "outputs": []
  },
  {
   "cell_type": "markdown",
   "metadata": {
    "id": "B03_0srPNrA8",
    "pycharm": {
     "name": "#%% md\n"
    }
   },
   "source": [
    "\n",
    "\n",
    "---\n",
    "1.3) Calculate the frequency of each AGI and construct a histogram (matplotlib)!\n",
    "```\n",
    "plt.hist(<list_of_values>)    #tip\n",
    "```\n",
    "\n",
    "\n"
   ]
  },
  {
   "cell_type": "code",
   "metadata": {
    "id": "dx5WtRZeOFm5",
    "pycharm": {
     "name": "#%%\n"
    }
   },
   "source": [],
   "execution_count": null,
   "outputs": []
  }
 ]
}