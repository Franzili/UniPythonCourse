{
  "nbformat": 4,
  "nbformat_minor": 0,
  "metadata": {
    "colab": {
      "name": "file_reading_strategies.ipynb",
      "provenance": [],
      "collapsed_sections": [],
      "authorship_tag": "ABX9TyOhY2hLdt5zVy69NxjMHd+D"
    },
    "kernelspec": {
      "name": "python3",
      "display_name": "Python 3"
    },
    "language_info": {
      "name": "python"
    }
  },
  "cells": [
    {
      "cell_type": "markdown",
      "source": [
        "# Strategies for reading files\n",
        "\n",
        "There are multiple ways of reading files. You can read a file iteratively line by line or read the entire file.\n",
        "\n",
        "In many cases, reading the entire file and storing its entire content in memory is not necessary because a line-wise processing suffices. In pratical applications handling large files, iterative file reading should be preferred to reduce the memory requirements.\n",
        "\n",
        "Below you find one formulation of reading an entire file at once and two formulations of reading a file iteratively."
      ],
      "metadata": {
        "id": "IUHfv7UHr0jq"
      }
    },
    {
      "cell_type": "code",
      "execution_count": null,
      "metadata": {
        "id": "MET6tg81rgJL"
      },
      "outputs": [],
      "source": [
        "# read all lines at once\n",
        "def read_fully(input_file):\n",
        "  with open(input_file, 'r') as f:\n",
        "    lines = f.readlines()\n",
        "    for line in lines:\n",
        "      pass\n",
        "\n",
        "# read lines iteratively\n",
        "def read_iteratively_1(input_file):\n",
        "  with open(input_file, 'r') as f:\n",
        "    line = f.readline()\n",
        "    while line:\n",
        "      # do something\n",
        "      line = f.readline()\n",
        "\n",
        "# read lines iteratively\n",
        "def read_iteratively_2(input_file):\n",
        "  with open(input_file, 'r') as f:\n",
        "    for line in f:\n",
        "      pass"
      ]
    }
  ]
}